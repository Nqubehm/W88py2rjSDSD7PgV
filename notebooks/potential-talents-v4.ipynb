{
 "cells": [
  {
   "cell_type": "code",
   "execution_count": null,
   "id": "0a3eb129",
   "metadata": {
    "papermill": {
     "duration": 0.029607,
     "end_time": "2022-12-04T15:03:45.199116",
     "exception": false,
     "start_time": "2022-12-04T15:03:45.169509",
     "status": "completed"
    },
    "tags": []
   },
   "outputs": [],
   "source": []
  },
  {
   "cell_type": "markdown",
   "id": "d228f29f",
   "metadata": {
    "papermill": {
     "duration": 0.020925,
     "end_time": "2022-12-04T15:03:45.242860",
     "exception": false,
     "start_time": "2022-12-04T15:03:45.221935",
     "status": "completed"
    },
    "tags": []
   },
   "source": [
    "## Problem Statement: Predict Potential Talents."
   ]
  },
  {
   "cell_type": "markdown",
   "id": "3a4d78c4",
   "metadata": {
    "papermill": {
     "duration": 0.020949,
     "end_time": "2022-12-04T15:03:45.286140",
     "exception": false,
     "start_time": "2022-12-04T15:03:45.265191",
     "status": "completed"
    },
    "tags": []
   },
   "source": [
    "### Data Description:\n",
    "\n",
    "The data comes from our sourcing efforts. We removed any field that could directly reveal personal details and gave a unique identifier for each candidate.\n",
    "\n",
    "`Attributes`:\n",
    "* id : unique identifier for candidate (numeric)\n",
    "\n",
    "* job_title : job title for candidate (text)\n",
    "\n",
    "* location : geographical location for candidate (text)\n",
    "\n",
    "* connections: number of connections candidate has, 500+ means over 500 (text)\n",
    "\n",
    "`Output (desired target)`:\n",
    "* fit - how fit the candidate is for the role? (numeric, probability between 0-1)\n",
    "\n",
    "`Keywords`: “Aspiring human resources” or “seeking human resources”\n"
   ]
  },
  {
   "cell_type": "markdown",
   "id": "bb227008",
   "metadata": {
    "papermill": {
     "duration": 0.021585,
     "end_time": "2022-12-04T15:03:45.329720",
     "exception": false,
     "start_time": "2022-12-04T15:03:45.308135",
     "status": "completed"
    },
    "tags": []
   },
   "source": [
    "### Summary of this notebook:\n",
    "\n",
    "We want to predict how fit the candidate is based on their unique identifiers, their job titles, geographical location and number of connections each candidate has. \n",
    "\n",
    "Given the above keywords, we can first find the similarities between them and the job titles. After finding these similarities, we will then rank candidates based on them. \n",
    "\n",
    "We will use methods like jaccard and cosine similarities to find the similarity scores we'll use as the fitness score. \n",
    "`Jaccard Similarity` takes in the text data as inputs but `Cosine Similarity` takes in numbers as input. This means that we'll have to represent our data as numerical vectors using methods like word embeddings (word2vec and glove) that are context independent and BERT embeddings which learns contextual representations on unlabeled data.\n"
   ]
  },
  {
   "cell_type": "markdown",
   "id": "0759bd03",
   "metadata": {
    "papermill": {
     "duration": 0.020169,
     "end_time": "2022-12-04T15:03:45.371689",
     "exception": false,
     "start_time": "2022-12-04T15:03:45.351520",
     "status": "completed"
    },
    "tags": []
   },
   "source": [
    "### Starting with the Dev Work..."
   ]
  },
  {
   "cell_type": "code",
   "execution_count": 1,
   "id": "44b80507",
   "metadata": {
    "execution": {
     "iopub.execute_input": "2022-12-04T15:03:45.417849Z",
     "iopub.status.busy": "2022-12-04T15:03:45.417005Z",
     "iopub.status.idle": "2022-12-04T15:04:20.354513Z",
     "shell.execute_reply": "2022-12-04T15:04:20.353119Z"
    },
    "papermill": {
     "duration": 34.965445,
     "end_time": "2022-12-04T15:04:20.357942",
     "exception": false,
     "start_time": "2022-12-04T15:03:45.392497",
     "status": "completed"
    },
    "tags": []
   },
   "outputs": [
    {
     "name": "stdout",
     "output_type": "stream",
     "text": [
      "Collecting wget\r\n"
     ]
    },
    {
     "name": "stdout",
     "output_type": "stream",
     "text": [
      "  Downloading wget-3.2.zip (10 kB)\r\n"
     ]
    },
    {
     "name": "stdout",
     "output_type": "stream",
     "text": [
      "  Preparing metadata (setup.py) ... \u001b[?25l-"
     ]
    },
    {
     "name": "stdout",
     "output_type": "stream",
     "text": [
      "\b \bdone\r\n",
      "\u001b[?25hBuilding wheels for collected packages: wget\r\n"
     ]
    },
    {
     "name": "stdout",
     "output_type": "stream",
     "text": [
      "  Building wheel for wget (setup.py) ... \u001b[?25l-"
     ]
    },
    {
     "name": "stdout",
     "output_type": "stream",
     "text": [
      "\b \b\\"
     ]
    },
    {
     "name": "stdout",
     "output_type": "stream",
     "text": [
      "\b \bdone\r\n",
      "\u001b[?25h  Created wheel for wget: filename=wget-3.2-py3-none-any.whl size=9675 sha256=48063b28edcd49f67a175272c02ca64df4304bb8229133a05f50ee86e3471388\r\n",
      "  Stored in directory: /root/.cache/pip/wheels/a1/b6/7c/0e63e34eb06634181c63adacca38b79ff8f35c37e3c13e3c02\r\n"
     ]
    },
    {
     "name": "stdout",
     "output_type": "stream",
     "text": [
      "Successfully built wget\r\n"
     ]
    },
    {
     "name": "stdout",
     "output_type": "stream",
     "text": [
      "Installing collected packages: wget\r\n"
     ]
    },
    {
     "name": "stdout",
     "output_type": "stream",
     "text": [
      "Successfully installed wget-3.2\r\n",
      "\u001b[33mWARNING: Running pip as the 'root' user can result in broken permissions and conflicting behaviour with the system package manager. It is recommended to use a virtual environment instead: https://pip.pypa.io/warnings/venv\u001b[0m\u001b[33m\r\n",
      "\u001b[0m"
     ]
    },
    {
     "name": "stdout",
     "output_type": "stream",
     "text": [
      "Collecting sentence_transformers\r\n"
     ]
    },
    {
     "name": "stdout",
     "output_type": "stream",
     "text": [
      "  Downloading sentence-transformers-2.2.2.tar.gz (85 kB)\r\n",
      "\u001b[?25l     \u001b[90m━━━━━━━━━━━━━━━━━━━━━━━━━━━━━━━━━━━━━━━━\u001b[0m \u001b[32m0.0/86.0 kB\u001b[0m \u001b[31m?\u001b[0m eta \u001b[36m-:--:--\u001b[0m\r",
      "\u001b[2K     \u001b[91m━━━━━━━━━━━━━━\u001b[0m\u001b[90m╺\u001b[0m\u001b[90m━━━━━━━━━━━━━━━━━━━━━━━━━\u001b[0m \u001b[32m30.7/86.0 kB\u001b[0m \u001b[31m1.1 MB/s\u001b[0m eta \u001b[36m0:00:01\u001b[0m"
     ]
    },
    {
     "name": "stdout",
     "output_type": "stream",
     "text": [
      "\r",
      "\u001b[2K     \u001b[91m━━━━━━━━━━━━━━\u001b[0m\u001b[90m╺\u001b[0m\u001b[90m━━━━━━━━━━━━━━━━━━━━━━━━━\u001b[0m \u001b[32m30.7/86.0 kB\u001b[0m \u001b[31m1.1 MB/s\u001b[0m eta \u001b[36m0:00:01\u001b[0m"
     ]
    },
    {
     "name": "stdout",
     "output_type": "stream",
     "text": [
      "\r",
      "\u001b[2K     \u001b[91m━━━━━━━━━━━━━━━━━━━━━━━━━━━━━━━━━━━━━\u001b[0m\u001b[90m╺\u001b[0m\u001b[90m━\u001b[0m \u001b[32m81.9/86.0 kB\u001b[0m \u001b[31m701.9 kB/s\u001b[0m eta \u001b[36m0:00:01\u001b[0m\r",
      "\u001b[2K     \u001b[90m━━━━━━━━━━━━━━━━━━━━━━━━━━━━━━━━━━━━━━━\u001b[0m \u001b[32m86.0/86.0 kB\u001b[0m \u001b[31m656.0 kB/s\u001b[0m eta \u001b[36m0:00:00\u001b[0m\r\n",
      "\u001b[?25h"
     ]
    },
    {
     "name": "stdout",
     "output_type": "stream",
     "text": [
      "  Preparing metadata (setup.py) ... \u001b[?25l-"
     ]
    },
    {
     "name": "stdout",
     "output_type": "stream",
     "text": [
      "\b \bdone\r\n"
     ]
    },
    {
     "name": "stdout",
     "output_type": "stream",
     "text": [
      "\u001b[?25hRequirement already satisfied: transformers<5.0.0,>=4.6.0 in /opt/conda/lib/python3.7/site-packages (from sentence_transformers) (4.20.1)\r\n",
      "Requirement already satisfied: tqdm in /opt/conda/lib/python3.7/site-packages (from sentence_transformers) (4.64.0)\r\n",
      "Requirement already satisfied: torch>=1.6.0 in /opt/conda/lib/python3.7/site-packages (from sentence_transformers) (1.11.0+cpu)\r\n",
      "Requirement already satisfied: torchvision in /opt/conda/lib/python3.7/site-packages (from sentence_transformers) (0.12.0+cpu)\r\n",
      "Requirement already satisfied: numpy in /opt/conda/lib/python3.7/site-packages (from sentence_transformers) (1.21.6)\r\n",
      "Requirement already satisfied: scikit-learn in /opt/conda/lib/python3.7/site-packages (from sentence_transformers) (1.0.2)\r\n",
      "Requirement already satisfied: scipy in /opt/conda/lib/python3.7/site-packages (from sentence_transformers) (1.7.3)\r\n",
      "Requirement already satisfied: nltk in /opt/conda/lib/python3.7/site-packages (from sentence_transformers) (3.7)\r\n",
      "Requirement already satisfied: sentencepiece in /opt/conda/lib/python3.7/site-packages (from sentence_transformers) (0.1.97)\r\n",
      "Requirement already satisfied: huggingface-hub>=0.4.0 in /opt/conda/lib/python3.7/site-packages (from sentence_transformers) (0.10.1)\r\n"
     ]
    },
    {
     "name": "stdout",
     "output_type": "stream",
     "text": [
      "Requirement already satisfied: requests in /opt/conda/lib/python3.7/site-packages (from huggingface-hub>=0.4.0->sentence_transformers) (2.28.1)\r\n"
     ]
    },
    {
     "name": "stdout",
     "output_type": "stream",
     "text": [
      "Requirement already satisfied: packaging>=20.9 in /opt/conda/lib/python3.7/site-packages (from huggingface-hub>=0.4.0->sentence_transformers) (21.3)\r\n",
      "Requirement already satisfied: typing-extensions>=3.7.4.3 in /opt/conda/lib/python3.7/site-packages (from huggingface-hub>=0.4.0->sentence_transformers) (4.4.0)\r\n",
      "Requirement already satisfied: filelock in /opt/conda/lib/python3.7/site-packages (from huggingface-hub>=0.4.0->sentence_transformers) (3.7.1)\r\n",
      "Requirement already satisfied: importlib-metadata in /opt/conda/lib/python3.7/site-packages (from huggingface-hub>=0.4.0->sentence_transformers) (4.13.0)\r\n",
      "Requirement already satisfied: pyyaml>=5.1 in /opt/conda/lib/python3.7/site-packages (from huggingface-hub>=0.4.0->sentence_transformers) (6.0)\r\n"
     ]
    },
    {
     "name": "stdout",
     "output_type": "stream",
     "text": [
      "Requirement already satisfied: tokenizers!=0.11.3,<0.13,>=0.11.1 in /opt/conda/lib/python3.7/site-packages (from transformers<5.0.0,>=4.6.0->sentence_transformers) (0.12.1)\r\n",
      "Requirement already satisfied: regex!=2019.12.17 in /opt/conda/lib/python3.7/site-packages (from transformers<5.0.0,>=4.6.0->sentence_transformers) (2021.11.10)\r\n"
     ]
    },
    {
     "name": "stdout",
     "output_type": "stream",
     "text": [
      "Requirement already satisfied: joblib in /opt/conda/lib/python3.7/site-packages (from nltk->sentence_transformers) (1.0.1)\r\n",
      "Requirement already satisfied: click in /opt/conda/lib/python3.7/site-packages (from nltk->sentence_transformers) (8.0.4)\r\n"
     ]
    },
    {
     "name": "stdout",
     "output_type": "stream",
     "text": [
      "Requirement already satisfied: threadpoolctl>=2.0.0 in /opt/conda/lib/python3.7/site-packages (from scikit-learn->sentence_transformers) (3.1.0)\r\n",
      "Requirement already satisfied: pillow!=8.3.*,>=5.3.0 in /opt/conda/lib/python3.7/site-packages (from torchvision->sentence_transformers) (9.1.1)\r\n"
     ]
    },
    {
     "name": "stdout",
     "output_type": "stream",
     "text": [
      "Requirement already satisfied: pyparsing!=3.0.5,>=2.0.2 in /opt/conda/lib/python3.7/site-packages (from packaging>=20.9->huggingface-hub>=0.4.0->sentence_transformers) (3.0.9)\r\n"
     ]
    },
    {
     "name": "stdout",
     "output_type": "stream",
     "text": [
      "Requirement already satisfied: zipp>=0.5 in /opt/conda/lib/python3.7/site-packages (from importlib-metadata->huggingface-hub>=0.4.0->sentence_transformers) (3.8.0)\r\n",
      "Requirement already satisfied: urllib3<1.27,>=1.21.1 in /opt/conda/lib/python3.7/site-packages (from requests->huggingface-hub>=0.4.0->sentence_transformers) (1.26.12)\r\n",
      "Requirement already satisfied: charset-normalizer<3,>=2 in /opt/conda/lib/python3.7/site-packages (from requests->huggingface-hub>=0.4.0->sentence_transformers) (2.1.0)\r\n",
      "Requirement already satisfied: certifi>=2017.4.17 in /opt/conda/lib/python3.7/site-packages (from requests->huggingface-hub>=0.4.0->sentence_transformers) (2022.9.24)\r\n",
      "Requirement already satisfied: idna<4,>=2.5 in /opt/conda/lib/python3.7/site-packages (from requests->huggingface-hub>=0.4.0->sentence_transformers) (3.3)\r\n"
     ]
    },
    {
     "name": "stdout",
     "output_type": "stream",
     "text": [
      "Building wheels for collected packages: sentence_transformers\r\n"
     ]
    },
    {
     "name": "stdout",
     "output_type": "stream",
     "text": [
      "  Building wheel for sentence_transformers (setup.py) ... \u001b[?25l-"
     ]
    },
    {
     "name": "stdout",
     "output_type": "stream",
     "text": [
      "\b \b\\"
     ]
    },
    {
     "name": "stdout",
     "output_type": "stream",
     "text": [
      "\b \b|"
     ]
    },
    {
     "name": "stdout",
     "output_type": "stream",
     "text": [
      "\b \bdone\r\n",
      "\u001b[?25h  Created wheel for sentence_transformers: filename=sentence_transformers-2.2.2-py3-none-any.whl size=125938 sha256=dd014833bf86aeb81fb4f08013ce2909ad6911afbaeb55edbf17a02adf01aa7c\r\n",
      "  Stored in directory: /root/.cache/pip/wheels/bf/06/fb/d59c1e5bd1dac7f6cf61ec0036cc3a10ab8fecaa6b2c3d3ee9\r\n",
      "Successfully built sentence_transformers\r\n"
     ]
    },
    {
     "name": "stdout",
     "output_type": "stream",
     "text": [
      "Installing collected packages: sentence_transformers\r\n"
     ]
    },
    {
     "name": "stdout",
     "output_type": "stream",
     "text": [
      "Successfully installed sentence_transformers-2.2.2\r\n",
      "\u001b[33mWARNING: Running pip as the 'root' user can result in broken permissions and conflicting behaviour with the system package manager. It is recommended to use a virtual environment instead: https://pip.pypa.io/warnings/venv\u001b[0m\u001b[33m\r\n",
      "\u001b[0m"
     ]
    }
   ],
   "source": [
    "#Download missing packages\n",
    "!pip install wget\n",
    "!pip install sentence_transformers"
   ]
  },
  {
   "cell_type": "code",
   "execution_count": 2,
   "id": "eb0b2019",
   "metadata": {
    "execution": {
     "iopub.execute_input": "2022-12-04T15:04:20.408826Z",
     "iopub.status.busy": "2022-12-04T15:04:20.408329Z",
     "iopub.status.idle": "2022-12-04T15:04:38.738673Z",
     "shell.execute_reply": "2022-12-04T15:04:38.736457Z"
    },
    "papermill": {
     "duration": 18.359063,
     "end_time": "2022-12-04T15:04:38.741774",
     "exception": false,
     "start_time": "2022-12-04T15:04:20.382711",
     "status": "completed"
    },
    "tags": []
   },
   "outputs": [
    {
     "name": "stderr",
     "output_type": "stream",
     "text": [
      "[nltk_data] Downloading package stopwords to /usr/share/nltk_data...\n",
      "[nltk_data]   Package stopwords is already up-to-date!\n",
      "[nltk_data] Downloading package wordnet to /usr/share/nltk_data...\n",
      "[nltk_data]   Package wordnet is already up-to-date!\n",
      "[nltk_data] Downloading package punkt to /usr/share/nltk_data...\n",
      "[nltk_data]   Package punkt is already up-to-date!\n"
     ]
    }
   ],
   "source": [
    "# imports\n",
    "import numpy as np\n",
    "import pandas as pd\n",
    "\n",
    "pd.options.mode.chained_assignment = None # \n",
    "\n",
    "import warnings\n",
    "\n",
    "from wordcloud import WordCloud # visualize text data where size of each word indicates its frequency or importance\n",
    "import matplotlib.pyplot as plt \n",
    "import scipy.stats as stats # statistics, probability distributions functions\n",
    "\n",
    "import sklearn\n",
    "from sklearn.metrics.pairwise import cosine_similarity # measure how similar the documents are irrespective of their size\n",
    "from scipy.spatial.distance import cosine # returns the angle between the two given point A and B\n",
    "\n",
    "\n",
    "import shutil # helps in automating the process of copying and removal of files and directorie\n",
    "import re\n",
    "import string\n",
    "import spacy \n",
    "import os\n",
    "import wget \n",
    "\n",
    "import nltk\n",
    "nltk.download('stopwords') # the most common words in any language (like articles, prepositions, pronouns, conjunctions, etc) and does not add much info to the text\n",
    "nltk.download('wordnet') # used to look for word definitions, synonyms, and antonyms\n",
    "nltk.download('punkt') # PunktSentenceTokenizer: divides a text into a list of sentences by using an unsupervised algorithm to build a model for abbreviation words, collocations, and words that start sentences\n",
    "\n",
    "from nltk.corpus import stopwords\n",
    "from nltk.tokenize import word_tokenize #  divides a body of text into words or sentences\n",
    "\n",
    "import gensim \n",
    "import gensim.downloader as api # \n",
    "from gensim.scripts.glove2word2vec import glove2word2vec\n",
    "from gensim.models import KeyedVectors\n",
    "from gensim.test.utils import datapath\n",
    "from gensim.models.doc2vec import Doc2Vec\n",
    "\n",
    "from sentence_transformers import SentenceTransformer"
   ]
  },
  {
   "cell_type": "code",
   "execution_count": 3,
   "id": "78f9c0d2",
   "metadata": {
    "execution": {
     "iopub.execute_input": "2022-12-04T15:04:38.792888Z",
     "iopub.status.busy": "2022-12-04T15:04:38.791474Z",
     "iopub.status.idle": "2022-12-04T15:04:38.822292Z",
     "shell.execute_reply": "2022-12-04T15:04:38.820504Z"
    },
    "papermill": {
     "duration": 0.060345,
     "end_time": "2022-12-04T15:04:38.826329",
     "exception": false,
     "start_time": "2022-12-04T15:04:38.765984",
     "status": "completed"
    },
    "tags": []
   },
   "outputs": [],
   "source": [
    "# import data\n",
    "data = pd.read_csv('../input/seeking-human-resources/potential-talents - Aspiring human resources - seeking human resources.csv')"
   ]
  },
  {
   "cell_type": "code",
   "execution_count": 4,
   "id": "ea823a8b",
   "metadata": {
    "execution": {
     "iopub.execute_input": "2022-12-04T15:04:38.879826Z",
     "iopub.status.busy": "2022-12-04T15:04:38.879325Z",
     "iopub.status.idle": "2022-12-04T15:04:38.913461Z",
     "shell.execute_reply": "2022-12-04T15:04:38.912092Z"
    },
    "papermill": {
     "duration": 0.063964,
     "end_time": "2022-12-04T15:04:38.916135",
     "exception": false,
     "start_time": "2022-12-04T15:04:38.852171",
     "status": "completed"
    },
    "tags": []
   },
   "outputs": [
    {
     "data": {
      "text/html": [
       "<div>\n",
       "<style scoped>\n",
       "    .dataframe tbody tr th:only-of-type {\n",
       "        vertical-align: middle;\n",
       "    }\n",
       "\n",
       "    .dataframe tbody tr th {\n",
       "        vertical-align: top;\n",
       "    }\n",
       "\n",
       "    .dataframe thead th {\n",
       "        text-align: right;\n",
       "    }\n",
       "</style>\n",
       "<table border=\"1\" class=\"dataframe\">\n",
       "  <thead>\n",
       "    <tr style=\"text-align: right;\">\n",
       "      <th></th>\n",
       "      <th>id</th>\n",
       "      <th>job_title</th>\n",
       "      <th>location</th>\n",
       "      <th>connection</th>\n",
       "      <th>fit</th>\n",
       "    </tr>\n",
       "  </thead>\n",
       "  <tbody>\n",
       "    <tr>\n",
       "      <th>0</th>\n",
       "      <td>1</td>\n",
       "      <td>2019 C.T. Bauer College of Business Graduate (...</td>\n",
       "      <td>Houston, Texas</td>\n",
       "      <td>85</td>\n",
       "      <td>NaN</td>\n",
       "    </tr>\n",
       "    <tr>\n",
       "      <th>1</th>\n",
       "      <td>2</td>\n",
       "      <td>Native English Teacher at EPIK (English Progra...</td>\n",
       "      <td>Kanada</td>\n",
       "      <td>500+</td>\n",
       "      <td>NaN</td>\n",
       "    </tr>\n",
       "    <tr>\n",
       "      <th>2</th>\n",
       "      <td>3</td>\n",
       "      <td>Aspiring Human Resources Professional</td>\n",
       "      <td>Raleigh-Durham, North Carolina Area</td>\n",
       "      <td>44</td>\n",
       "      <td>NaN</td>\n",
       "    </tr>\n",
       "    <tr>\n",
       "      <th>3</th>\n",
       "      <td>4</td>\n",
       "      <td>People Development Coordinator at Ryan</td>\n",
       "      <td>Denton, Texas</td>\n",
       "      <td>500+</td>\n",
       "      <td>NaN</td>\n",
       "    </tr>\n",
       "    <tr>\n",
       "      <th>4</th>\n",
       "      <td>5</td>\n",
       "      <td>Advisory Board Member at Celal Bayar University</td>\n",
       "      <td>İzmir, Türkiye</td>\n",
       "      <td>500+</td>\n",
       "      <td>NaN</td>\n",
       "    </tr>\n",
       "  </tbody>\n",
       "</table>\n",
       "</div>"
      ],
      "text/plain": [
       "   id                                          job_title  \\\n",
       "0   1  2019 C.T. Bauer College of Business Graduate (...   \n",
       "1   2  Native English Teacher at EPIK (English Progra...   \n",
       "2   3              Aspiring Human Resources Professional   \n",
       "3   4             People Development Coordinator at Ryan   \n",
       "4   5    Advisory Board Member at Celal Bayar University   \n",
       "\n",
       "                              location connection  fit  \n",
       "0                       Houston, Texas         85  NaN  \n",
       "1                               Kanada      500+   NaN  \n",
       "2  Raleigh-Durham, North Carolina Area         44  NaN  \n",
       "3                        Denton, Texas      500+   NaN  \n",
       "4                       İzmir, Türkiye      500+   NaN  "
      ]
     },
     "execution_count": 4,
     "metadata": {},
     "output_type": "execute_result"
    }
   ],
   "source": [
    "# View the first 5 rows of our data\n",
    "data.head()"
   ]
  },
  {
   "cell_type": "code",
   "execution_count": 5,
   "id": "7698cad0",
   "metadata": {
    "execution": {
     "iopub.execute_input": "2022-12-04T15:04:38.968471Z",
     "iopub.status.busy": "2022-12-04T15:04:38.967274Z",
     "iopub.status.idle": "2022-12-04T15:04:38.999417Z",
     "shell.execute_reply": "2022-12-04T15:04:38.997625Z"
    },
    "papermill": {
     "duration": 0.060633,
     "end_time": "2022-12-04T15:04:39.002679",
     "exception": false,
     "start_time": "2022-12-04T15:04:38.942046",
     "status": "completed"
    },
    "tags": []
   },
   "outputs": [
    {
     "name": "stdout",
     "output_type": "stream",
     "text": [
      "<class 'pandas.core.frame.DataFrame'>\n",
      "RangeIndex: 104 entries, 0 to 103\n",
      "Data columns (total 5 columns):\n",
      " #   Column      Non-Null Count  Dtype  \n",
      "---  ------      --------------  -----  \n",
      " 0   id          104 non-null    int64  \n",
      " 1   job_title   104 non-null    object \n",
      " 2   location    104 non-null    object \n",
      " 3   connection  104 non-null    object \n",
      " 4   fit         0 non-null      float64\n",
      "dtypes: float64(1), int64(1), object(3)\n",
      "memory usage: 4.2+ KB\n"
     ]
    }
   ],
   "source": [
    "data.info()"
   ]
  },
  {
   "cell_type": "markdown",
   "id": "c4b35540",
   "metadata": {
    "papermill": {
     "duration": 0.023726,
     "end_time": "2022-12-04T15:04:39.051637",
     "exception": false,
     "start_time": "2022-12-04T15:04:39.027911",
     "status": "completed"
    },
    "tags": []
   },
   "source": [
    "Our dataset contains 5 columns, 3 contain categorical data types,no missing values in the first 4 and our fifth column (fit) is empty, mainly because it is what we want to predict based on the information given in the other 4 columns.\n",
    "\n",
    "Now, let's check statistical information of the columns that contain categorical data."
   ]
  },
  {
   "cell_type": "code",
   "execution_count": 6,
   "id": "b13ae1b5",
   "metadata": {
    "execution": {
     "iopub.execute_input": "2022-12-04T15:04:39.104191Z",
     "iopub.status.busy": "2022-12-04T15:04:39.103742Z",
     "iopub.status.idle": "2022-12-04T15:04:39.130950Z",
     "shell.execute_reply": "2022-12-04T15:04:39.128943Z"
    },
    "papermill": {
     "duration": 0.057019,
     "end_time": "2022-12-04T15:04:39.134443",
     "exception": false,
     "start_time": "2022-12-04T15:04:39.077424",
     "status": "completed"
    },
    "tags": []
   },
   "outputs": [
    {
     "data": {
      "text/html": [
       "<div>\n",
       "<style scoped>\n",
       "    .dataframe tbody tr th:only-of-type {\n",
       "        vertical-align: middle;\n",
       "    }\n",
       "\n",
       "    .dataframe tbody tr th {\n",
       "        vertical-align: top;\n",
       "    }\n",
       "\n",
       "    .dataframe thead th {\n",
       "        text-align: right;\n",
       "    }\n",
       "</style>\n",
       "<table border=\"1\" class=\"dataframe\">\n",
       "  <thead>\n",
       "    <tr style=\"text-align: right;\">\n",
       "      <th></th>\n",
       "      <th>job_title</th>\n",
       "      <th>location</th>\n",
       "      <th>connection</th>\n",
       "    </tr>\n",
       "  </thead>\n",
       "  <tbody>\n",
       "    <tr>\n",
       "      <th>count</th>\n",
       "      <td>104</td>\n",
       "      <td>104</td>\n",
       "      <td>104</td>\n",
       "    </tr>\n",
       "    <tr>\n",
       "      <th>unique</th>\n",
       "      <td>52</td>\n",
       "      <td>41</td>\n",
       "      <td>33</td>\n",
       "    </tr>\n",
       "    <tr>\n",
       "      <th>top</th>\n",
       "      <td>2019 C.T. Bauer College of Business Graduate (...</td>\n",
       "      <td>Kanada</td>\n",
       "      <td>500+</td>\n",
       "    </tr>\n",
       "    <tr>\n",
       "      <th>freq</th>\n",
       "      <td>7</td>\n",
       "      <td>12</td>\n",
       "      <td>44</td>\n",
       "    </tr>\n",
       "  </tbody>\n",
       "</table>\n",
       "</div>"
      ],
      "text/plain": [
       "                                                job_title location connection\n",
       "count                                                 104      104        104\n",
       "unique                                                 52       41         33\n",
       "top     2019 C.T. Bauer College of Business Graduate (...   Kanada      500+ \n",
       "freq                                                    7       12         44"
      ]
     },
     "execution_count": 6,
     "metadata": {},
     "output_type": "execute_result"
    }
   ],
   "source": [
    "data.describe(include=object)"
   ]
  },
  {
   "cell_type": "markdown",
   "id": "7890fb8b",
   "metadata": {
    "papermill": {
     "duration": 0.030181,
     "end_time": "2022-12-04T15:04:39.203906",
     "exception": false,
     "start_time": "2022-12-04T15:04:39.173725",
     "status": "completed"
    },
    "tags": []
   },
   "source": [
    "`job-title` has 52 unique entries with the shown sentence as the most occuring while location has 41 with many candidates residing in Kanada, and connection has 33 with many candidates having 500+ linkedIn connections."
   ]
  },
  {
   "cell_type": "markdown",
   "id": "f8f612e5",
   "metadata": {
    "papermill": {
     "duration": 0.024045,
     "end_time": "2022-12-04T15:04:39.263524",
     "exception": false,
     "start_time": "2022-12-04T15:04:39.239479",
     "status": "completed"
    },
    "tags": []
   },
   "source": [
    "Now, let us clean our data."
   ]
  },
  {
   "cell_type": "markdown",
   "id": "1c547777",
   "metadata": {
    "papermill": {
     "duration": 0.024033,
     "end_time": "2022-12-04T15:04:39.312465",
     "exception": false,
     "start_time": "2022-12-04T15:04:39.288432",
     "status": "completed"
    },
    "tags": []
   },
   "source": [
    "## Exploratory Data Analysis\n"
   ]
  },
  {
   "cell_type": "markdown",
   "id": "5aca88da",
   "metadata": {
    "papermill": {
     "duration": 0.024487,
     "end_time": "2022-12-04T15:04:39.360809",
     "exception": false,
     "start_time": "2022-12-04T15:04:39.336322",
     "status": "completed"
    },
    "tags": []
   },
   "source": [
    "We will first drop the `id` column since it will not contribute anything to our analysis and prediction."
   ]
  },
  {
   "cell_type": "code",
   "execution_count": 7,
   "id": "cdfe5f49",
   "metadata": {
    "execution": {
     "iopub.execute_input": "2022-12-04T15:04:39.413553Z",
     "iopub.status.busy": "2022-12-04T15:04:39.412722Z",
     "iopub.status.idle": "2022-12-04T15:04:39.424989Z",
     "shell.execute_reply": "2022-12-04T15:04:39.423485Z"
    },
    "papermill": {
     "duration": 0.04216,
     "end_time": "2022-12-04T15:04:39.428377",
     "exception": false,
     "start_time": "2022-12-04T15:04:39.386217",
     "status": "completed"
    },
    "tags": []
   },
   "outputs": [
    {
     "data": {
      "text/plain": [
       "(104, 4)"
      ]
     },
     "execution_count": 7,
     "metadata": {},
     "output_type": "execute_result"
    }
   ],
   "source": [
    "data = data.drop('id', axis=1)\n",
    "data.shape"
   ]
  },
  {
   "cell_type": "markdown",
   "id": "74a1ea4f",
   "metadata": {
    "papermill": {
     "duration": 0.025413,
     "end_time": "2022-12-04T15:04:39.479076",
     "exception": false,
     "start_time": "2022-12-04T15:04:39.453663",
     "status": "completed"
    },
    "tags": []
   },
   "source": [
    "Now, let us check for null values and drop any duplicates if any are present."
   ]
  },
  {
   "cell_type": "code",
   "execution_count": 8,
   "id": "35ebe848",
   "metadata": {
    "execution": {
     "iopub.execute_input": "2022-12-04T15:04:39.529928Z",
     "iopub.status.busy": "2022-12-04T15:04:39.529458Z",
     "iopub.status.idle": "2022-12-04T15:04:39.542238Z",
     "shell.execute_reply": "2022-12-04T15:04:39.540472Z"
    },
    "papermill": {
     "duration": 0.041586,
     "end_time": "2022-12-04T15:04:39.545457",
     "exception": false,
     "start_time": "2022-12-04T15:04:39.503871",
     "status": "completed"
    },
    "tags": []
   },
   "outputs": [
    {
     "data": {
      "text/plain": [
       "job_title       0\n",
       "location        0\n",
       "connection      0\n",
       "fit           104\n",
       "dtype: int64"
      ]
     },
     "execution_count": 8,
     "metadata": {},
     "output_type": "execute_result"
    }
   ],
   "source": [
    "# Null Vlues check\n",
    "data.isnull().sum()"
   ]
  },
  {
   "cell_type": "code",
   "execution_count": 9,
   "id": "b5bbd4bb",
   "metadata": {
    "execution": {
     "iopub.execute_input": "2022-12-04T15:04:39.597092Z",
     "iopub.status.busy": "2022-12-04T15:04:39.596185Z",
     "iopub.status.idle": "2022-12-04T15:04:39.609557Z",
     "shell.execute_reply": "2022-12-04T15:04:39.607685Z"
    },
    "papermill": {
     "duration": 0.041378,
     "end_time": "2022-12-04T15:04:39.612693",
     "exception": false,
     "start_time": "2022-12-04T15:04:39.571315",
     "status": "completed"
    },
    "tags": []
   },
   "outputs": [],
   "source": [
    "data.drop_duplicates(inplace=True)"
   ]
  },
  {
   "cell_type": "code",
   "execution_count": 10,
   "id": "71e83aa0",
   "metadata": {
    "execution": {
     "iopub.execute_input": "2022-12-04T15:04:39.664066Z",
     "iopub.status.busy": "2022-12-04T15:04:39.663509Z",
     "iopub.status.idle": "2022-12-04T15:04:39.672762Z",
     "shell.execute_reply": "2022-12-04T15:04:39.671455Z"
    },
    "papermill": {
     "duration": 0.038343,
     "end_time": "2022-12-04T15:04:39.676093",
     "exception": false,
     "start_time": "2022-12-04T15:04:39.637750",
     "status": "completed"
    },
    "tags": []
   },
   "outputs": [
    {
     "data": {
      "text/plain": [
       "(53, 4)"
      ]
     },
     "execution_count": 10,
     "metadata": {},
     "output_type": "execute_result"
    }
   ],
   "source": [
    "data.shape"
   ]
  },
  {
   "cell_type": "markdown",
   "id": "2967c552",
   "metadata": {
    "papermill": {
     "duration": 0.024091,
     "end_time": "2022-12-04T15:04:39.724437",
     "exception": false,
     "start_time": "2022-12-04T15:04:39.700346",
     "status": "completed"
    },
    "tags": []
   },
   "source": [
    "Now that we have removed duplicates, we can now perform text preprocessing where we will remove punctuations, extra and white spaces, numbers in our text sentences, remove words that add no value to our sentences (i.e. stop words) and convert words in our sentences to their base forms (lemmatization)."
   ]
  },
  {
   "cell_type": "markdown",
   "id": "04300f4a",
   "metadata": {
    "papermill": {
     "duration": 0.02409,
     "end_time": "2022-12-04T15:04:39.773554",
     "exception": false,
     "start_time": "2022-12-04T15:04:39.749464",
     "status": "completed"
    },
    "tags": []
   },
   "source": [
    "### Text Preprocessing"
   ]
  },
  {
   "cell_type": "markdown",
   "id": "5981dc58",
   "metadata": {
    "papermill": {
     "duration": 0.023928,
     "end_time": "2022-12-04T15:04:39.822371",
     "exception": false,
     "start_time": "2022-12-04T15:04:39.798443",
     "status": "completed"
    },
    "tags": []
   },
   "source": [
    "Kindly note that we will perform text preprocessing on a copy of our original dataset so that we don't lose our original data should we make any mistakes  or be not happy about something along the way. "
   ]
  },
  {
   "cell_type": "code",
   "execution_count": 11,
   "id": "27c940b9",
   "metadata": {
    "execution": {
     "iopub.execute_input": "2022-12-04T15:04:39.872952Z",
     "iopub.status.busy": "2022-12-04T15:04:39.872466Z",
     "iopub.status.idle": "2022-12-04T15:04:39.879869Z",
     "shell.execute_reply": "2022-12-04T15:04:39.878091Z"
    },
    "papermill": {
     "duration": 0.035826,
     "end_time": "2022-12-04T15:04:39.882677",
     "exception": false,
     "start_time": "2022-12-04T15:04:39.846851",
     "status": "completed"
    },
    "tags": []
   },
   "outputs": [],
   "source": [
    "data_copy = data.copy()"
   ]
  },
  {
   "cell_type": "markdown",
   "id": "7afb1be2",
   "metadata": {
    "papermill": {
     "duration": 0.024709,
     "end_time": "2022-12-04T15:04:39.932456",
     "exception": false,
     "start_time": "2022-12-04T15:04:39.907747",
     "status": "completed"
    },
    "tags": []
   },
   "source": [
    "#### 1. Remove Punctuations"
   ]
  },
  {
   "cell_type": "code",
   "execution_count": 12,
   "id": "38dfa3b9",
   "metadata": {
    "execution": {
     "iopub.execute_input": "2022-12-04T15:04:39.987212Z",
     "iopub.status.busy": "2022-12-04T15:04:39.985848Z",
     "iopub.status.idle": "2022-12-04T15:04:39.993343Z",
     "shell.execute_reply": "2022-12-04T15:04:39.992331Z"
    },
    "papermill": {
     "duration": 0.037194,
     "end_time": "2022-12-04T15:04:39.996062",
     "exception": false,
     "start_time": "2022-12-04T15:04:39.958868",
     "status": "completed"
    },
    "tags": []
   },
   "outputs": [
    {
     "data": {
      "text/plain": [
       "'!\"#$%&\\'()*+,-./:;<=>?@[\\\\]^_`{|}~'"
      ]
     },
     "execution_count": 12,
     "metadata": {},
     "output_type": "execute_result"
    }
   ],
   "source": [
    "string.punctuation"
   ]
  },
  {
   "cell_type": "code",
   "execution_count": 13,
   "id": "92e69506",
   "metadata": {
    "execution": {
     "iopub.execute_input": "2022-12-04T15:04:40.048669Z",
     "iopub.status.busy": "2022-12-04T15:04:40.048200Z",
     "iopub.status.idle": "2022-12-04T15:04:40.054697Z",
     "shell.execute_reply": "2022-12-04T15:04:40.052885Z"
    },
    "papermill": {
     "duration": 0.036385,
     "end_time": "2022-12-04T15:04:40.057965",
     "exception": false,
     "start_time": "2022-12-04T15:04:40.021580",
     "status": "completed"
    },
    "tags": []
   },
   "outputs": [],
   "source": [
    "def remove_punctuation(text):\n",
    "    no_punct = \"\".join([word for word in text if word not in string.punctuation])\n",
    "    return no_punct"
   ]
  },
  {
   "cell_type": "code",
   "execution_count": 14,
   "id": "3f7b36a2",
   "metadata": {
    "execution": {
     "iopub.execute_input": "2022-12-04T15:04:40.108259Z",
     "iopub.status.busy": "2022-12-04T15:04:40.106974Z",
     "iopub.status.idle": "2022-12-04T15:04:40.118432Z",
     "shell.execute_reply": "2022-12-04T15:04:40.116942Z"
    },
    "papermill": {
     "duration": 0.040622,
     "end_time": "2022-12-04T15:04:40.122072",
     "exception": false,
     "start_time": "2022-12-04T15:04:40.081450",
     "status": "completed"
    },
    "tags": []
   },
   "outputs": [],
   "source": [
    "data_copy.job_title = data_copy.job_title.apply(lambda x: remove_punctuation(x))\n",
    "data_copy.connection = data_copy.connection.apply(lambda x: remove_punctuation(x))"
   ]
  },
  {
   "cell_type": "markdown",
   "id": "eb452f6f",
   "metadata": {
    "papermill": {
     "duration": 0.024899,
     "end_time": "2022-12-04T15:04:40.172514",
     "exception": false,
     "start_time": "2022-12-04T15:04:40.147615",
     "status": "completed"
    },
    "tags": []
   },
   "source": [
    "Remember that the `connection` column has string data entries and so we'll convert its data into integers for when we decide to add it in improving the fitness score."
   ]
  },
  {
   "cell_type": "code",
   "execution_count": 15,
   "id": "ed9ffe47",
   "metadata": {
    "execution": {
     "iopub.execute_input": "2022-12-04T15:04:40.228112Z",
     "iopub.status.busy": "2022-12-04T15:04:40.227605Z",
     "iopub.status.idle": "2022-12-04T15:04:40.236166Z",
     "shell.execute_reply": "2022-12-04T15:04:40.233979Z"
    },
    "papermill": {
     "duration": 0.040928,
     "end_time": "2022-12-04T15:04:40.239328",
     "exception": false,
     "start_time": "2022-12-04T15:04:40.198400",
     "status": "completed"
    },
    "tags": []
   },
   "outputs": [],
   "source": [
    "data_copy.connection = data_copy.connection.astype(int)"
   ]
  },
  {
   "cell_type": "code",
   "execution_count": 16,
   "id": "835616a6",
   "metadata": {
    "execution": {
     "iopub.execute_input": "2022-12-04T15:04:40.291500Z",
     "iopub.status.busy": "2022-12-04T15:04:40.289751Z",
     "iopub.status.idle": "2022-12-04T15:04:40.305275Z",
     "shell.execute_reply": "2022-12-04T15:04:40.303912Z"
    },
    "papermill": {
     "duration": 0.044503,
     "end_time": "2022-12-04T15:04:40.308213",
     "exception": false,
     "start_time": "2022-12-04T15:04:40.263710",
     "status": "completed"
    },
    "tags": []
   },
   "outputs": [
    {
     "data": {
      "text/html": [
       "<div>\n",
       "<style scoped>\n",
       "    .dataframe tbody tr th:only-of-type {\n",
       "        vertical-align: middle;\n",
       "    }\n",
       "\n",
       "    .dataframe tbody tr th {\n",
       "        vertical-align: top;\n",
       "    }\n",
       "\n",
       "    .dataframe thead th {\n",
       "        text-align: right;\n",
       "    }\n",
       "</style>\n",
       "<table border=\"1\" class=\"dataframe\">\n",
       "  <thead>\n",
       "    <tr style=\"text-align: right;\">\n",
       "      <th></th>\n",
       "      <th>job_title</th>\n",
       "      <th>location</th>\n",
       "      <th>connection</th>\n",
       "      <th>fit</th>\n",
       "    </tr>\n",
       "  </thead>\n",
       "  <tbody>\n",
       "    <tr>\n",
       "      <th>0</th>\n",
       "      <td>2019 CT Bauer College of Business Graduate Mag...</td>\n",
       "      <td>Houston, Texas</td>\n",
       "      <td>85</td>\n",
       "      <td>NaN</td>\n",
       "    </tr>\n",
       "    <tr>\n",
       "      <th>1</th>\n",
       "      <td>Native English Teacher at EPIK English Program...</td>\n",
       "      <td>Kanada</td>\n",
       "      <td>500</td>\n",
       "      <td>NaN</td>\n",
       "    </tr>\n",
       "    <tr>\n",
       "      <th>2</th>\n",
       "      <td>Aspiring Human Resources Professional</td>\n",
       "      <td>Raleigh-Durham, North Carolina Area</td>\n",
       "      <td>44</td>\n",
       "      <td>NaN</td>\n",
       "    </tr>\n",
       "    <tr>\n",
       "      <th>3</th>\n",
       "      <td>People Development Coordinator at Ryan</td>\n",
       "      <td>Denton, Texas</td>\n",
       "      <td>500</td>\n",
       "      <td>NaN</td>\n",
       "    </tr>\n",
       "    <tr>\n",
       "      <th>4</th>\n",
       "      <td>Advisory Board Member at Celal Bayar University</td>\n",
       "      <td>İzmir, Türkiye</td>\n",
       "      <td>500</td>\n",
       "      <td>NaN</td>\n",
       "    </tr>\n",
       "  </tbody>\n",
       "</table>\n",
       "</div>"
      ],
      "text/plain": [
       "                                           job_title  \\\n",
       "0  2019 CT Bauer College of Business Graduate Mag...   \n",
       "1  Native English Teacher at EPIK English Program...   \n",
       "2              Aspiring Human Resources Professional   \n",
       "3             People Development Coordinator at Ryan   \n",
       "4    Advisory Board Member at Celal Bayar University   \n",
       "\n",
       "                              location  connection  fit  \n",
       "0                       Houston, Texas          85  NaN  \n",
       "1                               Kanada         500  NaN  \n",
       "2  Raleigh-Durham, North Carolina Area          44  NaN  \n",
       "3                        Denton, Texas         500  NaN  \n",
       "4                       İzmir, Türkiye         500  NaN  "
      ]
     },
     "execution_count": 16,
     "metadata": {},
     "output_type": "execute_result"
    }
   ],
   "source": [
    "data_copy.head()"
   ]
  },
  {
   "cell_type": "markdown",
   "id": "3c1f397b",
   "metadata": {
    "papermill": {
     "duration": 0.025996,
     "end_time": "2022-12-04T15:04:40.359336",
     "exception": false,
     "start_time": "2022-12-04T15:04:40.333340",
     "status": "completed"
    },
    "tags": []
   },
   "source": [
    "We can see that punctuations have been removed successfully."
   ]
  },
  {
   "cell_type": "markdown",
   "id": "bd2e50b9",
   "metadata": {
    "papermill": {
     "duration": 0.025462,
     "end_time": "2022-12-04T15:04:40.410905",
     "exception": false,
     "start_time": "2022-12-04T15:04:40.385443",
     "status": "completed"
    },
    "tags": []
   },
   "source": [
    "#### 2. Remove white & extra spaces and save words into lower cases"
   ]
  },
  {
   "cell_type": "code",
   "execution_count": 17,
   "id": "e66fc389",
   "metadata": {
    "execution": {
     "iopub.execute_input": "2022-12-04T15:04:40.464126Z",
     "iopub.status.busy": "2022-12-04T15:04:40.462692Z",
     "iopub.status.idle": "2022-12-04T15:04:40.472231Z",
     "shell.execute_reply": "2022-12-04T15:04:40.470678Z"
    },
    "papermill": {
     "duration": 0.03812,
     "end_time": "2022-12-04T15:04:40.475006",
     "exception": false,
     "start_time": "2022-12-04T15:04:40.436886",
     "status": "completed"
    },
    "tags": []
   },
   "outputs": [],
   "source": [
    "def preprocessing(data_copy):\n",
    "    \n",
    "    # Lowercase the words\n",
    "    data_copy.job_title = data_copy.job_title.apply(lambda x: x.lower())\n",
    "    # replace HR with Human Resources\n",
    "    data_copy.job_title = data_copy.job_title.apply(lambda x: x.replace('HR', ' Human Resources '))\n",
    "    # Remove extra spaces\n",
    "    data_copy.job_title = data_copy.job_title.apply(lambda x: re.sub(' +',' ',x))\n",
    "    # Remove white spaces\n",
    "    data_copy.job_title = data_copy.job_title.apply(lambda x: x.strip())\n",
    "    # Remove numbers\n",
    "    data_copy.job_title = data_copy.job_title.apply(lambda x: re.sub(r'\\d+', '', x))\n",
    "    \n",
    "    return data_copy"
   ]
  },
  {
   "cell_type": "code",
   "execution_count": 18,
   "id": "9e22d08a",
   "metadata": {
    "execution": {
     "iopub.execute_input": "2022-12-04T15:04:40.527852Z",
     "iopub.status.busy": "2022-12-04T15:04:40.527190Z",
     "iopub.status.idle": "2022-12-04T15:04:40.535634Z",
     "shell.execute_reply": "2022-12-04T15:04:40.534335Z"
    },
    "papermill": {
     "duration": 0.038357,
     "end_time": "2022-12-04T15:04:40.538848",
     "exception": false,
     "start_time": "2022-12-04T15:04:40.500491",
     "status": "completed"
    },
    "tags": []
   },
   "outputs": [],
   "source": [
    "data_copy = preprocessing(data_copy)"
   ]
  },
  {
   "cell_type": "code",
   "execution_count": 19,
   "id": "493b34c2",
   "metadata": {
    "execution": {
     "iopub.execute_input": "2022-12-04T15:04:40.592106Z",
     "iopub.status.busy": "2022-12-04T15:04:40.591409Z",
     "iopub.status.idle": "2022-12-04T15:04:40.607067Z",
     "shell.execute_reply": "2022-12-04T15:04:40.604946Z"
    },
    "papermill": {
     "duration": 0.047552,
     "end_time": "2022-12-04T15:04:40.611041",
     "exception": false,
     "start_time": "2022-12-04T15:04:40.563489",
     "status": "completed"
    },
    "tags": []
   },
   "outputs": [
    {
     "data": {
      "text/html": [
       "<div>\n",
       "<style scoped>\n",
       "    .dataframe tbody tr th:only-of-type {\n",
       "        vertical-align: middle;\n",
       "    }\n",
       "\n",
       "    .dataframe tbody tr th {\n",
       "        vertical-align: top;\n",
       "    }\n",
       "\n",
       "    .dataframe thead th {\n",
       "        text-align: right;\n",
       "    }\n",
       "</style>\n",
       "<table border=\"1\" class=\"dataframe\">\n",
       "  <thead>\n",
       "    <tr style=\"text-align: right;\">\n",
       "      <th></th>\n",
       "      <th>job_title</th>\n",
       "      <th>location</th>\n",
       "      <th>connection</th>\n",
       "      <th>fit</th>\n",
       "    </tr>\n",
       "  </thead>\n",
       "  <tbody>\n",
       "    <tr>\n",
       "      <th>0</th>\n",
       "      <td>ct bauer college of business graduate magna c...</td>\n",
       "      <td>Houston, Texas</td>\n",
       "      <td>85</td>\n",
       "      <td>NaN</td>\n",
       "    </tr>\n",
       "    <tr>\n",
       "      <th>1</th>\n",
       "      <td>native english teacher at epik english program...</td>\n",
       "      <td>Kanada</td>\n",
       "      <td>500</td>\n",
       "      <td>NaN</td>\n",
       "    </tr>\n",
       "    <tr>\n",
       "      <th>2</th>\n",
       "      <td>aspiring human resources professional</td>\n",
       "      <td>Raleigh-Durham, North Carolina Area</td>\n",
       "      <td>44</td>\n",
       "      <td>NaN</td>\n",
       "    </tr>\n",
       "    <tr>\n",
       "      <th>3</th>\n",
       "      <td>people development coordinator at ryan</td>\n",
       "      <td>Denton, Texas</td>\n",
       "      <td>500</td>\n",
       "      <td>NaN</td>\n",
       "    </tr>\n",
       "    <tr>\n",
       "      <th>4</th>\n",
       "      <td>advisory board member at celal bayar university</td>\n",
       "      <td>İzmir, Türkiye</td>\n",
       "      <td>500</td>\n",
       "      <td>NaN</td>\n",
       "    </tr>\n",
       "    <tr>\n",
       "      <th>5</th>\n",
       "      <td>aspiring human resources specialist</td>\n",
       "      <td>Greater New York City Area</td>\n",
       "      <td>1</td>\n",
       "      <td>NaN</td>\n",
       "    </tr>\n",
       "    <tr>\n",
       "      <th>6</th>\n",
       "      <td>student at humber college and aspiring human r...</td>\n",
       "      <td>Kanada</td>\n",
       "      <td>61</td>\n",
       "      <td>NaN</td>\n",
       "    </tr>\n",
       "    <tr>\n",
       "      <th>7</th>\n",
       "      <td>hr senior specialist</td>\n",
       "      <td>San Francisco Bay Area</td>\n",
       "      <td>500</td>\n",
       "      <td>NaN</td>\n",
       "    </tr>\n",
       "    <tr>\n",
       "      <th>9</th>\n",
       "      <td>seeking human resources hris and generalist po...</td>\n",
       "      <td>Greater Philadelphia Area</td>\n",
       "      <td>500</td>\n",
       "      <td>NaN</td>\n",
       "    </tr>\n",
       "    <tr>\n",
       "      <th>10</th>\n",
       "      <td>student at chapman university</td>\n",
       "      <td>Lake Forest, California</td>\n",
       "      <td>2</td>\n",
       "      <td>NaN</td>\n",
       "    </tr>\n",
       "  </tbody>\n",
       "</table>\n",
       "</div>"
      ],
      "text/plain": [
       "                                            job_title  \\\n",
       "0    ct bauer college of business graduate magna c...   \n",
       "1   native english teacher at epik english program...   \n",
       "2               aspiring human resources professional   \n",
       "3              people development coordinator at ryan   \n",
       "4     advisory board member at celal bayar university   \n",
       "5                 aspiring human resources specialist   \n",
       "6   student at humber college and aspiring human r...   \n",
       "7                                hr senior specialist   \n",
       "9   seeking human resources hris and generalist po...   \n",
       "10                      student at chapman university   \n",
       "\n",
       "                               location  connection  fit  \n",
       "0                        Houston, Texas          85  NaN  \n",
       "1                                Kanada         500  NaN  \n",
       "2   Raleigh-Durham, North Carolina Area          44  NaN  \n",
       "3                         Denton, Texas         500  NaN  \n",
       "4                        İzmir, Türkiye         500  NaN  \n",
       "5            Greater New York City Area           1  NaN  \n",
       "6                                Kanada          61  NaN  \n",
       "7                San Francisco Bay Area         500  NaN  \n",
       "9             Greater Philadelphia Area         500  NaN  \n",
       "10              Lake Forest, California           2  NaN  "
      ]
     },
     "execution_count": 19,
     "metadata": {},
     "output_type": "execute_result"
    }
   ],
   "source": [
    "data_copy.head(10)"
   ]
  },
  {
   "cell_type": "markdown",
   "id": "7849e894",
   "metadata": {
    "papermill": {
     "duration": 0.025021,
     "end_time": "2022-12-04T15:04:40.663223",
     "exception": false,
     "start_time": "2022-12-04T15:04:40.638202",
     "status": "completed"
    },
    "tags": []
   },
   "source": [
    "Another step to take is to remove stop words in our data."
   ]
  },
  {
   "cell_type": "code",
   "execution_count": 20,
   "id": "91da40af",
   "metadata": {
    "execution": {
     "iopub.execute_input": "2022-12-04T15:04:40.716791Z",
     "iopub.status.busy": "2022-12-04T15:04:40.716287Z",
     "iopub.status.idle": "2022-12-04T15:04:40.725827Z",
     "shell.execute_reply": "2022-12-04T15:04:40.724615Z"
    },
    "papermill": {
     "duration": 0.039101,
     "end_time": "2022-12-04T15:04:40.728766",
     "exception": false,
     "start_time": "2022-12-04T15:04:40.689665",
     "status": "completed"
    },
    "tags": []
   },
   "outputs": [],
   "source": [
    "# Stop words predefined in english language\n",
    "stop_words = nltk.corpus.stopwords.words('english')"
   ]
  },
  {
   "cell_type": "code",
   "execution_count": 21,
   "id": "fe2d06a3",
   "metadata": {
    "execution": {
     "iopub.execute_input": "2022-12-04T15:04:40.781955Z",
     "iopub.status.busy": "2022-12-04T15:04:40.781159Z",
     "iopub.status.idle": "2022-12-04T15:04:40.789515Z",
     "shell.execute_reply": "2022-12-04T15:04:40.787603Z"
    },
    "papermill": {
     "duration": 0.039615,
     "end_time": "2022-12-04T15:04:40.793713",
     "exception": false,
     "start_time": "2022-12-04T15:04:40.754098",
     "status": "completed"
    },
    "tags": []
   },
   "outputs": [],
   "source": [
    "def remove_stopwords(text):\n",
    "    txt_clean = \" \".join([word for word in text.split() if word not in stop_words])\n",
    "    return txt_clean"
   ]
  },
  {
   "cell_type": "code",
   "execution_count": 22,
   "id": "9a6b633c",
   "metadata": {
    "execution": {
     "iopub.execute_input": "2022-12-04T15:04:40.846400Z",
     "iopub.status.busy": "2022-12-04T15:04:40.845850Z",
     "iopub.status.idle": "2022-12-04T15:04:40.855414Z",
     "shell.execute_reply": "2022-12-04T15:04:40.853441Z"
    },
    "papermill": {
     "duration": 0.039582,
     "end_time": "2022-12-04T15:04:40.858850",
     "exception": false,
     "start_time": "2022-12-04T15:04:40.819268",
     "status": "completed"
    },
    "tags": []
   },
   "outputs": [],
   "source": [
    "data_copy.job_title = data_copy.job_title.apply(lambda x: remove_stopwords(x))"
   ]
  },
  {
   "cell_type": "code",
   "execution_count": 23,
   "id": "cb5f2fb6",
   "metadata": {
    "execution": {
     "iopub.execute_input": "2022-12-04T15:04:40.915961Z",
     "iopub.status.busy": "2022-12-04T15:04:40.915547Z",
     "iopub.status.idle": "2022-12-04T15:04:40.932863Z",
     "shell.execute_reply": "2022-12-04T15:04:40.931106Z"
    },
    "papermill": {
     "duration": 0.048098,
     "end_time": "2022-12-04T15:04:40.936038",
     "exception": false,
     "start_time": "2022-12-04T15:04:40.887940",
     "status": "completed"
    },
    "tags": []
   },
   "outputs": [
    {
     "data": {
      "text/html": [
       "<div>\n",
       "<style scoped>\n",
       "    .dataframe tbody tr th:only-of-type {\n",
       "        vertical-align: middle;\n",
       "    }\n",
       "\n",
       "    .dataframe tbody tr th {\n",
       "        vertical-align: top;\n",
       "    }\n",
       "\n",
       "    .dataframe thead th {\n",
       "        text-align: right;\n",
       "    }\n",
       "</style>\n",
       "<table border=\"1\" class=\"dataframe\">\n",
       "  <thead>\n",
       "    <tr style=\"text-align: right;\">\n",
       "      <th></th>\n",
       "      <th>job_title</th>\n",
       "      <th>location</th>\n",
       "      <th>connection</th>\n",
       "      <th>fit</th>\n",
       "    </tr>\n",
       "  </thead>\n",
       "  <tbody>\n",
       "    <tr>\n",
       "      <th>0</th>\n",
       "      <td>ct bauer college business graduate magna cum l...</td>\n",
       "      <td>Houston, Texas</td>\n",
       "      <td>85</td>\n",
       "      <td>NaN</td>\n",
       "    </tr>\n",
       "    <tr>\n",
       "      <th>1</th>\n",
       "      <td>native english teacher epik english program korea</td>\n",
       "      <td>Kanada</td>\n",
       "      <td>500</td>\n",
       "      <td>NaN</td>\n",
       "    </tr>\n",
       "    <tr>\n",
       "      <th>2</th>\n",
       "      <td>aspiring human resources professional</td>\n",
       "      <td>Raleigh-Durham, North Carolina Area</td>\n",
       "      <td>44</td>\n",
       "      <td>NaN</td>\n",
       "    </tr>\n",
       "    <tr>\n",
       "      <th>3</th>\n",
       "      <td>people development coordinator ryan</td>\n",
       "      <td>Denton, Texas</td>\n",
       "      <td>500</td>\n",
       "      <td>NaN</td>\n",
       "    </tr>\n",
       "    <tr>\n",
       "      <th>4</th>\n",
       "      <td>advisory board member celal bayar university</td>\n",
       "      <td>İzmir, Türkiye</td>\n",
       "      <td>500</td>\n",
       "      <td>NaN</td>\n",
       "    </tr>\n",
       "    <tr>\n",
       "      <th>5</th>\n",
       "      <td>aspiring human resources specialist</td>\n",
       "      <td>Greater New York City Area</td>\n",
       "      <td>1</td>\n",
       "      <td>NaN</td>\n",
       "    </tr>\n",
       "    <tr>\n",
       "      <th>6</th>\n",
       "      <td>student humber college aspiring human resource...</td>\n",
       "      <td>Kanada</td>\n",
       "      <td>61</td>\n",
       "      <td>NaN</td>\n",
       "    </tr>\n",
       "    <tr>\n",
       "      <th>7</th>\n",
       "      <td>hr senior specialist</td>\n",
       "      <td>San Francisco Bay Area</td>\n",
       "      <td>500</td>\n",
       "      <td>NaN</td>\n",
       "    </tr>\n",
       "    <tr>\n",
       "      <th>9</th>\n",
       "      <td>seeking human resources hris generalist positions</td>\n",
       "      <td>Greater Philadelphia Area</td>\n",
       "      <td>500</td>\n",
       "      <td>NaN</td>\n",
       "    </tr>\n",
       "    <tr>\n",
       "      <th>10</th>\n",
       "      <td>student chapman university</td>\n",
       "      <td>Lake Forest, California</td>\n",
       "      <td>2</td>\n",
       "      <td>NaN</td>\n",
       "    </tr>\n",
       "  </tbody>\n",
       "</table>\n",
       "</div>"
      ],
      "text/plain": [
       "                                            job_title  \\\n",
       "0   ct bauer college business graduate magna cum l...   \n",
       "1   native english teacher epik english program korea   \n",
       "2               aspiring human resources professional   \n",
       "3                 people development coordinator ryan   \n",
       "4        advisory board member celal bayar university   \n",
       "5                 aspiring human resources specialist   \n",
       "6   student humber college aspiring human resource...   \n",
       "7                                hr senior specialist   \n",
       "9   seeking human resources hris generalist positions   \n",
       "10                         student chapman university   \n",
       "\n",
       "                               location  connection  fit  \n",
       "0                        Houston, Texas          85  NaN  \n",
       "1                                Kanada         500  NaN  \n",
       "2   Raleigh-Durham, North Carolina Area          44  NaN  \n",
       "3                         Denton, Texas         500  NaN  \n",
       "4                        İzmir, Türkiye         500  NaN  \n",
       "5            Greater New York City Area           1  NaN  \n",
       "6                                Kanada          61  NaN  \n",
       "7                San Francisco Bay Area         500  NaN  \n",
       "9             Greater Philadelphia Area         500  NaN  \n",
       "10              Lake Forest, California           2  NaN  "
      ]
     },
     "execution_count": 23,
     "metadata": {},
     "output_type": "execute_result"
    }
   ],
   "source": [
    "data_copy.head(10)"
   ]
  },
  {
   "cell_type": "markdown",
   "id": "8da3f4e8",
   "metadata": {
    "papermill": {
     "duration": 0.025354,
     "end_time": "2022-12-04T15:04:40.987741",
     "exception": false,
     "start_time": "2022-12-04T15:04:40.962387",
     "status": "completed"
    },
    "tags": []
   },
   "source": [
    "Stop words have been successfully removed."
   ]
  },
  {
   "cell_type": "markdown",
   "id": "440f79d8",
   "metadata": {
    "papermill": {
     "duration": 0.026968,
     "end_time": "2022-12-04T15:04:41.041427",
     "exception": false,
     "start_time": "2022-12-04T15:04:41.014459",
     "status": "completed"
    },
    "tags": []
   },
   "source": [
    "Now that we have cleaned our text data, let us visualize which words/ sentences occur the most in our dataset."
   ]
  },
  {
   "cell_type": "code",
   "execution_count": 24,
   "id": "9d54809d",
   "metadata": {
    "execution": {
     "iopub.execute_input": "2022-12-04T15:04:41.093488Z",
     "iopub.status.busy": "2022-12-04T15:04:41.093084Z",
     "iopub.status.idle": "2022-12-04T15:04:41.799458Z",
     "shell.execute_reply": "2022-12-04T15:04:41.797794Z"
    },
    "papermill": {
     "duration": 0.740464,
     "end_time": "2022-12-04T15:04:41.807459",
     "exception": false,
     "start_time": "2022-12-04T15:04:41.066995",
     "status": "completed"
    },
    "tags": []
   },
   "outputs": [
    {
     "data": {
      "image/png": "[encoded data removed]",
      "text/plain": [
       "<Figure size 1080x1080 with 1 Axes>"
      ]
     },
     "metadata": {
      "needs_background": "light"
     },
     "output_type": "display_data"
    }
   ],
   "source": [
    "job_titles = data_copy.job_title.values\n",
    "\n",
    "wordcloud = WordCloud().generate(str(job_titles))\n",
    "\n",
    "plt.figure(figsize=(15,15))\n",
    "plt.imshow(wordcloud)\n",
    "plt.axis(\"off\")\n",
    "plt.show()"
   ]
  },
  {
   "cell_type": "markdown",
   "id": "b216e3ca",
   "metadata": {
    "papermill": {
     "duration": 0.030192,
     "end_time": "2022-12-04T15:04:41.869037",
     "exception": false,
     "start_time": "2022-12-04T15:04:41.838845",
     "status": "completed"
    },
    "tags": []
   },
   "source": [
    "This visualization show that there are more job titles with `aspiring human` / `human resources` than with `seeking human resources` ."
   ]
  },
  {
   "cell_type": "markdown",
   "id": "cc594e94",
   "metadata": {
    "papermill": {
     "duration": 0.031849,
     "end_time": "2022-12-04T15:04:41.931350",
     "exception": false,
     "start_time": "2022-12-04T15:04:41.899501",
     "status": "completed"
    },
    "tags": []
   },
   "source": [
    "Now that our dataset has been preprocessed, we can calculate similarity between the keywords and the jo titles of these given candidates. As mentioned above, we will use jaccard and cosine similarities and compare them against each other on which performed better."
   ]
  },
  {
   "cell_type": "markdown",
   "id": "845ff16a",
   "metadata": {
    "papermill": {
     "duration": 0.030385,
     "end_time": "2022-12-04T15:04:41.994203",
     "exception": false,
     "start_time": "2022-12-04T15:04:41.963818",
     "status": "completed"
    },
    "tags": []
   },
   "source": [
    "## Calculating Similarity Scores"
   ]
  },
  {
   "cell_type": "code",
   "execution_count": 25,
   "id": "371a1bfa",
   "metadata": {
    "execution": {
     "iopub.execute_input": "2022-12-04T15:04:42.059540Z",
     "iopub.status.busy": "2022-12-04T15:04:42.058658Z",
     "iopub.status.idle": "2022-12-04T15:04:42.064881Z",
     "shell.execute_reply": "2022-12-04T15:04:42.063551Z"
    },
    "papermill": {
     "duration": 0.04201,
     "end_time": "2022-12-04T15:04:42.067614",
     "exception": false,
     "start_time": "2022-12-04T15:04:42.025604",
     "status": "completed"
    },
    "tags": []
   },
   "outputs": [],
   "source": [
    "# Defining keywords\n",
    "keywords = ['aspiring human resources', 'seeking human resources']"
   ]
  },
  {
   "cell_type": "markdown",
   "id": "2c0fe374",
   "metadata": {
    "papermill": {
     "duration": 0.034616,
     "end_time": "2022-12-04T15:04:42.134227",
     "exception": false,
     "start_time": "2022-12-04T15:04:42.099611",
     "status": "completed"
    },
    "tags": []
   },
   "source": [
    "### 1. Using Jaccard Similarity"
   ]
  },
  {
   "cell_type": "markdown",
   "id": "f519fef4",
   "metadata": {
    "papermill": {
     "duration": 0.030915,
     "end_time": "2022-12-04T15:04:42.196396",
     "exception": false,
     "start_time": "2022-12-04T15:04:42.165481",
     "status": "completed"
    },
    "tags": []
   },
   "source": [
    "`Jaccard Similarity` = intersection(doc A and doc B) / union(A & B). One means the 2 documents are identical, Zero means there's no similarity between the 2. \n",
    "We first need to perform lemmatization (which is the process of reducing words to their root form) to ensure that only unique words are fed on our jaccard similarity."
   ]
  },
  {
   "cell_type": "code",
   "execution_count": 26,
   "id": "c853b2c6",
   "metadata": {
    "execution": {
     "iopub.execute_input": "2022-12-04T15:04:42.261775Z",
     "iopub.status.busy": "2022-12-04T15:04:42.261336Z",
     "iopub.status.idle": "2022-12-04T15:04:42.342594Z",
     "shell.execute_reply": "2022-12-04T15:04:42.340763Z"
    },
    "papermill": {
     "duration": 0.118984,
     "end_time": "2022-12-04T15:04:42.346262",
     "exception": false,
     "start_time": "2022-12-04T15:04:42.227278",
     "status": "completed"
    },
    "tags": []
   },
   "outputs": [],
   "source": [
    "# Performing lemmatization\n",
    "from textblob import TextBlob"
   ]
  },
  {
   "cell_type": "code",
   "execution_count": 27,
   "id": "a47cf492",
   "metadata": {
    "execution": {
     "iopub.execute_input": "2022-12-04T15:04:42.411076Z",
     "iopub.status.busy": "2022-12-04T15:04:42.410324Z",
     "iopub.status.idle": "2022-12-04T15:04:43.969619Z",
     "shell.execute_reply": "2022-12-04T15:04:43.967929Z"
    },
    "papermill": {
     "duration": 1.595602,
     "end_time": "2022-12-04T15:04:43.972739",
     "exception": false,
     "start_time": "2022-12-04T15:04:42.377137",
     "status": "completed"
    },
    "tags": []
   },
   "outputs": [
    {
     "name": "stderr",
     "output_type": "stream",
     "text": [
      "[nltk_data] Downloading package omw-1.4 to /usr/share/nltk_data...\n"
     ]
    },
    {
     "data": {
      "text/plain": [
       "True"
      ]
     },
     "execution_count": 27,
     "metadata": {},
     "output_type": "execute_result"
    }
   ],
   "source": [
    "import nltk\n",
    "nltk.download('omw-1.4')"
   ]
  },
  {
   "cell_type": "code",
   "execution_count": 28,
   "id": "ea7b7883",
   "metadata": {
    "execution": {
     "iopub.execute_input": "2022-12-04T15:04:44.044069Z",
     "iopub.status.busy": "2022-12-04T15:04:44.042884Z",
     "iopub.status.idle": "2022-12-04T15:04:44.050744Z",
     "shell.execute_reply": "2022-12-04T15:04:44.049622Z"
    },
    "papermill": {
     "duration": 0.047215,
     "end_time": "2022-12-04T15:04:44.053910",
     "exception": false,
     "start_time": "2022-12-04T15:04:44.006695",
     "status": "completed"
    },
    "tags": []
   },
   "outputs": [],
   "source": [
    "def lemmatize(sentence):\n",
    "    \"\"\"\n",
    "        This function takes in a sentence and returns it in its lemmatized form\n",
    "    \"\"\"\n",
    "    text_blob = TextBlob(sentence)\n",
    "    lemmatized_sentence = \" \".join([word.lemmatize() for word in text_blob.words])\n",
    "    return lemmatized_sentence"
   ]
  },
  {
   "cell_type": "code",
   "execution_count": 29,
   "id": "f1861bb5",
   "metadata": {
    "execution": {
     "iopub.execute_input": "2022-12-04T15:04:44.124521Z",
     "iopub.status.busy": "2022-12-04T15:04:44.123585Z",
     "iopub.status.idle": "2022-12-04T15:04:46.429896Z",
     "shell.execute_reply": "2022-12-04T15:04:46.428024Z"
    },
    "papermill": {
     "duration": 2.344938,
     "end_time": "2022-12-04T15:04:46.433472",
     "exception": false,
     "start_time": "2022-12-04T15:04:44.088534",
     "status": "completed"
    },
    "tags": []
   },
   "outputs": [],
   "source": [
    "# Lemmatizing job titles\n",
    "lemmatized_titles = data_copy.job_title.apply(lambda x: lemmatize(x))\n"
   ]
  },
  {
   "cell_type": "code",
   "execution_count": 30,
   "id": "051da509",
   "metadata": {
    "execution": {
     "iopub.execute_input": "2022-12-04T15:04:46.501266Z",
     "iopub.status.busy": "2022-12-04T15:04:46.500318Z",
     "iopub.status.idle": "2022-12-04T15:04:46.506967Z",
     "shell.execute_reply": "2022-12-04T15:04:46.505755Z"
    },
    "papermill": {
     "duration": 0.04492,
     "end_time": "2022-12-04T15:04:46.511109",
     "exception": false,
     "start_time": "2022-12-04T15:04:46.466189",
     "status": "completed"
    },
    "tags": []
   },
   "outputs": [],
   "source": [
    "# type(lemmatized_titles)\n",
    "data_copy['lemmatized_titles'] = lemmatized_titles"
   ]
  },
  {
   "cell_type": "code",
   "execution_count": 31,
   "id": "aa49077f",
   "metadata": {
    "execution": {
     "iopub.execute_input": "2022-12-04T15:04:46.581585Z",
     "iopub.status.busy": "2022-12-04T15:04:46.580230Z",
     "iopub.status.idle": "2022-12-04T15:04:46.596515Z",
     "shell.execute_reply": "2022-12-04T15:04:46.595192Z"
    },
    "papermill": {
     "duration": 0.053441,
     "end_time": "2022-12-04T15:04:46.599190",
     "exception": false,
     "start_time": "2022-12-04T15:04:46.545749",
     "status": "completed"
    },
    "tags": []
   },
   "outputs": [
    {
     "data": {
      "text/html": [
       "<div>\n",
       "<style scoped>\n",
       "    .dataframe tbody tr th:only-of-type {\n",
       "        vertical-align: middle;\n",
       "    }\n",
       "\n",
       "    .dataframe tbody tr th {\n",
       "        vertical-align: top;\n",
       "    }\n",
       "\n",
       "    .dataframe thead th {\n",
       "        text-align: right;\n",
       "    }\n",
       "</style>\n",
       "<table border=\"1\" class=\"dataframe\">\n",
       "  <thead>\n",
       "    <tr style=\"text-align: right;\">\n",
       "      <th></th>\n",
       "      <th>job_title</th>\n",
       "      <th>location</th>\n",
       "      <th>connection</th>\n",
       "      <th>fit</th>\n",
       "      <th>lemmatized_titles</th>\n",
       "    </tr>\n",
       "  </thead>\n",
       "  <tbody>\n",
       "    <tr>\n",
       "      <th>0</th>\n",
       "      <td>ct bauer college business graduate magna cum l...</td>\n",
       "      <td>Houston, Texas</td>\n",
       "      <td>85</td>\n",
       "      <td>NaN</td>\n",
       "      <td>ct bauer college business graduate magna cum l...</td>\n",
       "    </tr>\n",
       "    <tr>\n",
       "      <th>1</th>\n",
       "      <td>native english teacher epik english program korea</td>\n",
       "      <td>Kanada</td>\n",
       "      <td>500</td>\n",
       "      <td>NaN</td>\n",
       "      <td>native english teacher epik english program korea</td>\n",
       "    </tr>\n",
       "    <tr>\n",
       "      <th>2</th>\n",
       "      <td>aspiring human resources professional</td>\n",
       "      <td>Raleigh-Durham, North Carolina Area</td>\n",
       "      <td>44</td>\n",
       "      <td>NaN</td>\n",
       "      <td>aspiring human resource professional</td>\n",
       "    </tr>\n",
       "    <tr>\n",
       "      <th>3</th>\n",
       "      <td>people development coordinator ryan</td>\n",
       "      <td>Denton, Texas</td>\n",
       "      <td>500</td>\n",
       "      <td>NaN</td>\n",
       "      <td>people development coordinator ryan</td>\n",
       "    </tr>\n",
       "    <tr>\n",
       "      <th>4</th>\n",
       "      <td>advisory board member celal bayar university</td>\n",
       "      <td>İzmir, Türkiye</td>\n",
       "      <td>500</td>\n",
       "      <td>NaN</td>\n",
       "      <td>advisory board member celal bayar university</td>\n",
       "    </tr>\n",
       "  </tbody>\n",
       "</table>\n",
       "</div>"
      ],
      "text/plain": [
       "                                           job_title  \\\n",
       "0  ct bauer college business graduate magna cum l...   \n",
       "1  native english teacher epik english program korea   \n",
       "2              aspiring human resources professional   \n",
       "3                people development coordinator ryan   \n",
       "4       advisory board member celal bayar university   \n",
       "\n",
       "                              location  connection  fit  \\\n",
       "0                       Houston, Texas          85  NaN   \n",
       "1                               Kanada         500  NaN   \n",
       "2  Raleigh-Durham, North Carolina Area          44  NaN   \n",
       "3                        Denton, Texas         500  NaN   \n",
       "4                       İzmir, Türkiye         500  NaN   \n",
       "\n",
       "                                   lemmatized_titles  \n",
       "0  ct bauer college business graduate magna cum l...  \n",
       "1  native english teacher epik english program korea  \n",
       "2               aspiring human resource professional  \n",
       "3                people development coordinator ryan  \n",
       "4       advisory board member celal bayar university  "
      ]
     },
     "execution_count": 31,
     "metadata": {},
     "output_type": "execute_result"
    }
   ],
   "source": [
    "data_copy.head()"
   ]
  },
  {
   "cell_type": "code",
   "execution_count": 32,
   "id": "00018040",
   "metadata": {
    "execution": {
     "iopub.execute_input": "2022-12-04T15:04:46.668335Z",
     "iopub.status.busy": "2022-12-04T15:04:46.667863Z",
     "iopub.status.idle": "2022-12-04T15:04:46.676788Z",
     "shell.execute_reply": "2022-12-04T15:04:46.675758Z"
    },
    "papermill": {
     "duration": 0.047035,
     "end_time": "2022-12-04T15:04:46.679946",
     "exception": false,
     "start_time": "2022-12-04T15:04:46.632911",
     "status": "completed"
    },
    "tags": []
   },
   "outputs": [
    {
     "data": {
      "text/plain": [
       "['aspiring human resource', 'seeking human resource']"
      ]
     },
     "execution_count": 32,
     "metadata": {},
     "output_type": "execute_result"
    }
   ],
   "source": [
    "# Lemmatizing the keywords\n",
    "lemmatized_keywords = []\n",
    "for keyword in keywords:\n",
    "    lemmatized_keywords.append(lemmatize(keyword))\n",
    "lemmatized_keywords"
   ]
  },
  {
   "cell_type": "markdown",
   "id": "1cd6a628",
   "metadata": {
    "papermill": {
     "duration": 0.033356,
     "end_time": "2022-12-04T15:04:46.747614",
     "exception": false,
     "start_time": "2022-12-04T15:04:46.714258",
     "status": "completed"
    },
    "tags": []
   },
   "source": [
    "Now that we've lemmatized our job titles, we can now calculate the similarity score using the jaccard similarity."
   ]
  },
  {
   "cell_type": "code",
   "execution_count": 33,
   "id": "9920cbda",
   "metadata": {
    "execution": {
     "iopub.execute_input": "2022-12-04T15:04:46.817899Z",
     "iopub.status.busy": "2022-12-04T15:04:46.817412Z",
     "iopub.status.idle": "2022-12-04T15:04:46.826396Z",
     "shell.execute_reply": "2022-12-04T15:04:46.824491Z"
    },
    "papermill": {
     "duration": 0.046642,
     "end_time": "2022-12-04T15:04:46.829774",
     "exception": false,
     "start_time": "2022-12-04T15:04:46.783132",
     "status": "completed"
    },
    "tags": []
   },
   "outputs": [],
   "source": [
    "def jaccard_similarity(docA, docB):\n",
    "    \"\"\"\n",
    "        Takes in 2 documents/ sentences to be compared.\n",
    "        Calculates their intersection and union and\n",
    "        returns similarity score between them.\n",
    "    \"\"\"\n",
    "    # List unique words in a document\n",
    "    words_docA = set(docA.lower().split())\n",
    "    words_docB = set(docB.lower().split())\n",
    "    \n",
    "    # Intersection between these 2 docmunts\n",
    "    intersection = words_docA.intersection(words_docB)\n",
    "    \n",
    "    # Union between these 2 documents\n",
    "    union = words_docA.union(words_docB)\n",
    "    \n",
    "    # Calculate jaccard similarity score\n",
    "    return np.round(len(intersection) / len(union),3)"
   ]
  },
  {
   "cell_type": "code",
   "execution_count": 34,
   "id": "d279ae59",
   "metadata": {
    "execution": {
     "iopub.execute_input": "2022-12-04T15:04:46.899173Z",
     "iopub.status.busy": "2022-12-04T15:04:46.898698Z",
     "iopub.status.idle": "2022-12-04T15:04:46.907679Z",
     "shell.execute_reply": "2022-12-04T15:04:46.906553Z"
    },
    "papermill": {
     "duration": 0.048031,
     "end_time": "2022-12-04T15:04:46.910635",
     "exception": false,
     "start_time": "2022-12-04T15:04:46.862604",
     "status": "completed"
    },
    "tags": []
   },
   "outputs": [],
   "source": [
    "# Calculating the jaccard similarity scores\n",
    "jaccard_score = []\n",
    "\n",
    "for title in data_copy.lemmatized_titles.values:\n",
    "    jac_score1 = jaccard_similarity(title, lemmatized_keywords[0]) \n",
    "    jac_score2 = jaccard_similarity(title, lemmatized_keywords[1])\n",
    "    \n",
    "    jaccard_score.append((jac_score1 + jac_score2) / 2)"
   ]
  },
  {
   "cell_type": "code",
   "execution_count": 35,
   "id": "f3f04ac0",
   "metadata": {
    "execution": {
     "iopub.execute_input": "2022-12-04T15:04:46.980472Z",
     "iopub.status.busy": "2022-12-04T15:04:46.979991Z",
     "iopub.status.idle": "2022-12-04T15:04:47.007127Z",
     "shell.execute_reply": "2022-12-04T15:04:47.006141Z"
    },
    "papermill": {
     "duration": 0.065851,
     "end_time": "2022-12-04T15:04:47.010630",
     "exception": false,
     "start_time": "2022-12-04T15:04:46.944779",
     "status": "completed"
    },
    "tags": []
   },
   "outputs": [
    {
     "data": {
      "text/html": [
       "<div>\n",
       "<style scoped>\n",
       "    .dataframe tbody tr th:only-of-type {\n",
       "        vertical-align: middle;\n",
       "    }\n",
       "\n",
       "    .dataframe tbody tr th {\n",
       "        vertical-align: top;\n",
       "    }\n",
       "\n",
       "    .dataframe thead th {\n",
       "        text-align: right;\n",
       "    }\n",
       "</style>\n",
       "<table border=\"1\" class=\"dataframe\">\n",
       "  <thead>\n",
       "    <tr style=\"text-align: right;\">\n",
       "      <th></th>\n",
       "      <th>job_title</th>\n",
       "      <th>location</th>\n",
       "      <th>connection</th>\n",
       "      <th>fit</th>\n",
       "      <th>lemmatized_titles</th>\n",
       "      <th>Jaccard Score</th>\n",
       "    </tr>\n",
       "  </thead>\n",
       "  <tbody>\n",
       "    <tr>\n",
       "      <th>2</th>\n",
       "      <td>aspiring human resources professional</td>\n",
       "      <td>Raleigh-Durham, North Carolina Area</td>\n",
       "      <td>44</td>\n",
       "      <td>NaN</td>\n",
       "      <td>aspiring human resource professional</td>\n",
       "      <td>0.5750</td>\n",
       "    </tr>\n",
       "    <tr>\n",
       "      <th>5</th>\n",
       "      <td>aspiring human resources specialist</td>\n",
       "      <td>Greater New York City Area</td>\n",
       "      <td>1</td>\n",
       "      <td>NaN</td>\n",
       "      <td>aspiring human resource specialist</td>\n",
       "      <td>0.5750</td>\n",
       "    </tr>\n",
       "    <tr>\n",
       "      <th>98</th>\n",
       "      <td>seeking human resources position</td>\n",
       "      <td>Las Vegas, Nevada Area</td>\n",
       "      <td>48</td>\n",
       "      <td>NaN</td>\n",
       "      <td>seeking human resource position</td>\n",
       "      <td>0.5750</td>\n",
       "    </tr>\n",
       "    <tr>\n",
       "      <th>96</th>\n",
       "      <td>aspiring human resources professional</td>\n",
       "      <td>Kokomo, Indiana Area</td>\n",
       "      <td>71</td>\n",
       "      <td>NaN</td>\n",
       "      <td>aspiring human resource professional</td>\n",
       "      <td>0.5750</td>\n",
       "    </tr>\n",
       "    <tr>\n",
       "      <th>27</th>\n",
       "      <td>seeking human resources opportunities</td>\n",
       "      <td>Chicago, Illinois</td>\n",
       "      <td>390</td>\n",
       "      <td>NaN</td>\n",
       "      <td>seeking human resource opportunity</td>\n",
       "      <td>0.5750</td>\n",
       "    </tr>\n",
       "    <tr>\n",
       "      <th>73</th>\n",
       "      <td>human resources professional</td>\n",
       "      <td>Greater Boston Area</td>\n",
       "      <td>16</td>\n",
       "      <td>NaN</td>\n",
       "      <td>human resource professional</td>\n",
       "      <td>0.5000</td>\n",
       "    </tr>\n",
       "    <tr>\n",
       "      <th>72</th>\n",
       "      <td>aspiring human resources manager seeking inter...</td>\n",
       "      <td>Houston, Texas Area</td>\n",
       "      <td>7</td>\n",
       "      <td>NaN</td>\n",
       "      <td>aspiring human resource manager seeking intern...</td>\n",
       "      <td>0.5000</td>\n",
       "    </tr>\n",
       "    <tr>\n",
       "      <th>26</th>\n",
       "      <td>aspiring human resources management student se...</td>\n",
       "      <td>Houston, Texas Area</td>\n",
       "      <td>500</td>\n",
       "      <td>NaN</td>\n",
       "      <td>aspiring human resource management student see...</td>\n",
       "      <td>0.4290</td>\n",
       "    </tr>\n",
       "    <tr>\n",
       "      <th>77</th>\n",
       "      <td>human resources generalist schwans</td>\n",
       "      <td>Amerika Birleşik Devletleri</td>\n",
       "      <td>500</td>\n",
       "      <td>NaN</td>\n",
       "      <td>human resource generalist schwans</td>\n",
       "      <td>0.4000</td>\n",
       "    </tr>\n",
       "    <tr>\n",
       "      <th>67</th>\n",
       "      <td>human resources specialist luxottica</td>\n",
       "      <td>Greater New York City Area</td>\n",
       "      <td>500</td>\n",
       "      <td>NaN</td>\n",
       "      <td>human resource specialist luxottica</td>\n",
       "      <td>0.4000</td>\n",
       "    </tr>\n",
       "    <tr>\n",
       "      <th>100</th>\n",
       "      <td>human resources generalist loparex</td>\n",
       "      <td>Raleigh-Durham, North Carolina Area</td>\n",
       "      <td>500</td>\n",
       "      <td>NaN</td>\n",
       "      <td>human resource generalist loparex</td>\n",
       "      <td>0.4000</td>\n",
       "    </tr>\n",
       "    <tr>\n",
       "      <th>87</th>\n",
       "      <td>human resources management major</td>\n",
       "      <td>Milpitas, California</td>\n",
       "      <td>18</td>\n",
       "      <td>NaN</td>\n",
       "      <td>human resource management major</td>\n",
       "      <td>0.4000</td>\n",
       "    </tr>\n",
       "    <tr>\n",
       "      <th>88</th>\n",
       "      <td>director human resources ey</td>\n",
       "      <td>Greater Atlanta Area</td>\n",
       "      <td>349</td>\n",
       "      <td>NaN</td>\n",
       "      <td>director human resource ey</td>\n",
       "      <td>0.4000</td>\n",
       "    </tr>\n",
       "    <tr>\n",
       "      <th>9</th>\n",
       "      <td>seeking human resources hris generalist positions</td>\n",
       "      <td>Greater Philadelphia Area</td>\n",
       "      <td>500</td>\n",
       "      <td>NaN</td>\n",
       "      <td>seeking human resource hris generalist position</td>\n",
       "      <td>0.3930</td>\n",
       "    </tr>\n",
       "    <tr>\n",
       "      <th>78</th>\n",
       "      <td>liberal arts major aspiring human resources an...</td>\n",
       "      <td>Baton Rouge, Louisiana Area</td>\n",
       "      <td>7</td>\n",
       "      <td>NaN</td>\n",
       "      <td>liberal art major aspiring human resource analyst</td>\n",
       "      <td>0.3395</td>\n",
       "    </tr>\n",
       "    <tr>\n",
       "      <th>71</th>\n",
       "      <td>business management major aspiring human resou...</td>\n",
       "      <td>Monroe, Louisiana Area</td>\n",
       "      <td>5</td>\n",
       "      <td>NaN</td>\n",
       "      <td>business management major aspiring human resou...</td>\n",
       "      <td>0.3395</td>\n",
       "    </tr>\n",
       "    <tr>\n",
       "      <th>81</th>\n",
       "      <td>aspiring human resources professional energeti...</td>\n",
       "      <td>Austin, Texas Area</td>\n",
       "      <td>174</td>\n",
       "      <td>NaN</td>\n",
       "      <td>aspiring human resource professional energetic...</td>\n",
       "      <td>0.3395</td>\n",
       "    </tr>\n",
       "    <tr>\n",
       "      <th>65</th>\n",
       "      <td>experienced retail manager aspiring human reso...</td>\n",
       "      <td>Austin, Texas Area</td>\n",
       "      <td>57</td>\n",
       "      <td>NaN</td>\n",
       "      <td>experienced retail manager aspiring human reso...</td>\n",
       "      <td>0.3395</td>\n",
       "    </tr>\n",
       "    <tr>\n",
       "      <th>93</th>\n",
       "      <td>seeking human resources opportunities open tra...</td>\n",
       "      <td>Amerika Birleşik Devletleri</td>\n",
       "      <td>415</td>\n",
       "      <td>NaN</td>\n",
       "      <td>seeking human resource opportunity open travel...</td>\n",
       "      <td>0.3395</td>\n",
       "    </tr>\n",
       "    <tr>\n",
       "      <th>6</th>\n",
       "      <td>student humber college aspiring human resource...</td>\n",
       "      <td>Kanada</td>\n",
       "      <td>61</td>\n",
       "      <td>NaN</td>\n",
       "      <td>student humber college aspiring human resource...</td>\n",
       "      <td>0.3395</td>\n",
       "    </tr>\n",
       "    <tr>\n",
       "      <th>70</th>\n",
       "      <td>human resources generalist scottmadden inc</td>\n",
       "      <td>Raleigh-Durham, North Carolina Area</td>\n",
       "      <td>500</td>\n",
       "      <td>NaN</td>\n",
       "      <td>human resource generalist scottmadden inc</td>\n",
       "      <td>0.3330</td>\n",
       "    </tr>\n",
       "    <tr>\n",
       "      <th>66</th>\n",
       "      <td>human resources staffing recruiting professional</td>\n",
       "      <td>Jackson, Mississippi Area</td>\n",
       "      <td>500</td>\n",
       "      <td>NaN</td>\n",
       "      <td>human resource staffing recruiting professional</td>\n",
       "      <td>0.3330</td>\n",
       "    </tr>\n",
       "    <tr>\n",
       "      <th>74</th>\n",
       "      <td>nortia staffing seeking human resources payrol...</td>\n",
       "      <td>San Jose, California</td>\n",
       "      <td>500</td>\n",
       "      <td>NaN</td>\n",
       "      <td>nortia staffing seeking human resource payroll...</td>\n",
       "      <td>0.2985</td>\n",
       "    </tr>\n",
       "    <tr>\n",
       "      <th>12</th>\n",
       "      <td>human resources coordinator intercontinental b...</td>\n",
       "      <td>Atlanta, Georgia</td>\n",
       "      <td>500</td>\n",
       "      <td>NaN</td>\n",
       "      <td>human resource coordinator intercontinental bu...</td>\n",
       "      <td>0.2860</td>\n",
       "    </tr>\n",
       "    <tr>\n",
       "      <th>99</th>\n",
       "      <td>aspiring human resources manager graduating ma...</td>\n",
       "      <td>Cape Girardeau, Missouri</td>\n",
       "      <td>103</td>\n",
       "      <td>NaN</td>\n",
       "      <td>aspiring human resource manager graduating may...</td>\n",
       "      <td>0.2730</td>\n",
       "    </tr>\n",
       "    <tr>\n",
       "      <th>68</th>\n",
       "      <td>director human resources north america groupe ...</td>\n",
       "      <td>Greater Grand Rapids, Michigan Area</td>\n",
       "      <td>500</td>\n",
       "      <td>NaN</td>\n",
       "      <td>director human resource north america groupe b...</td>\n",
       "      <td>0.2500</td>\n",
       "    </tr>\n",
       "    <tr>\n",
       "      <th>83</th>\n",
       "      <td>human resources professional world leader gis ...</td>\n",
       "      <td>Highland, California</td>\n",
       "      <td>50</td>\n",
       "      <td>NaN</td>\n",
       "      <td>human resource professional world leader gi so...</td>\n",
       "      <td>0.2500</td>\n",
       "    </tr>\n",
       "    <tr>\n",
       "      <th>80</th>\n",
       "      <td>senior human resources business partner heil e...</td>\n",
       "      <td>Chattanooga, Tennessee Area</td>\n",
       "      <td>455</td>\n",
       "      <td>NaN</td>\n",
       "      <td>senior human resource business partner heil en...</td>\n",
       "      <td>0.2500</td>\n",
       "    </tr>\n",
       "    <tr>\n",
       "      <th>76</th>\n",
       "      <td>human resources conflict management policies p...</td>\n",
       "      <td>Dallas/Fort Worth Area</td>\n",
       "      <td>409</td>\n",
       "      <td>NaN</td>\n",
       "      <td>human resource conflict management policy proc...</td>\n",
       "      <td>0.2220</td>\n",
       "    </tr>\n",
       "    <tr>\n",
       "      <th>69</th>\n",
       "      <td>retired army national guard recruiter office m...</td>\n",
       "      <td>Virginia Beach, Virginia</td>\n",
       "      <td>82</td>\n",
       "      <td>NaN</td>\n",
       "      <td>retired army national guard recruiter office m...</td>\n",
       "      <td>0.2200</td>\n",
       "    </tr>\n",
       "    <tr>\n",
       "      <th>75</th>\n",
       "      <td>aspiring human resources professional passiona...</td>\n",
       "      <td>New York, New York</td>\n",
       "      <td>212</td>\n",
       "      <td>NaN</td>\n",
       "      <td>aspiring human resource professional passionat...</td>\n",
       "      <td>0.2200</td>\n",
       "    </tr>\n",
       "    <tr>\n",
       "      <th>0</th>\n",
       "      <td>ct bauer college business graduate magna cum l...</td>\n",
       "      <td>Houston, Texas</td>\n",
       "      <td>85</td>\n",
       "      <td>NaN</td>\n",
       "      <td>ct bauer college business graduate magna cum l...</td>\n",
       "      <td>0.2020</td>\n",
       "    </tr>\n",
       "    <tr>\n",
       "      <th>91</th>\n",
       "      <td>seeking employment opportunities within custom...</td>\n",
       "      <td>Torrance, California</td>\n",
       "      <td>64</td>\n",
       "      <td>NaN</td>\n",
       "      <td>seeking employment opportunity within customer...</td>\n",
       "      <td>0.0500</td>\n",
       "    </tr>\n",
       "    <tr>\n",
       "      <th>82</th>\n",
       "      <td>hr manager endemol shine north america</td>\n",
       "      <td>Los Angeles, California</td>\n",
       "      <td>268</td>\n",
       "      <td>NaN</td>\n",
       "      <td>hr manager endemol shine north america</td>\n",
       "      <td>0.0000</td>\n",
       "    </tr>\n",
       "    <tr>\n",
       "      <th>94</th>\n",
       "      <td>student westfield state university</td>\n",
       "      <td>Bridgewater, Massachusetts</td>\n",
       "      <td>57</td>\n",
       "      <td>NaN</td>\n",
       "      <td>student westfield state university</td>\n",
       "      <td>0.0000</td>\n",
       "    </tr>\n",
       "    <tr>\n",
       "      <th>102</th>\n",
       "      <td>always set success</td>\n",
       "      <td>Greater Los Angeles Area</td>\n",
       "      <td>500</td>\n",
       "      <td>NaN</td>\n",
       "      <td>always set success</td>\n",
       "      <td>0.0000</td>\n",
       "    </tr>\n",
       "    <tr>\n",
       "      <th>101</th>\n",
       "      <td>business intelligence analytics travelers</td>\n",
       "      <td>Greater New York City Area</td>\n",
       "      <td>49</td>\n",
       "      <td>NaN</td>\n",
       "      <td>business intelligence analytics traveler</td>\n",
       "      <td>0.0000</td>\n",
       "    </tr>\n",
       "    <tr>\n",
       "      <th>3</th>\n",
       "      <td>people development coordinator ryan</td>\n",
       "      <td>Denton, Texas</td>\n",
       "      <td>500</td>\n",
       "      <td>NaN</td>\n",
       "      <td>people development coordinator ryan</td>\n",
       "      <td>0.0000</td>\n",
       "    </tr>\n",
       "    <tr>\n",
       "      <th>4</th>\n",
       "      <td>advisory board member celal bayar university</td>\n",
       "      <td>İzmir, Türkiye</td>\n",
       "      <td>500</td>\n",
       "      <td>NaN</td>\n",
       "      <td>advisory board member celal bayar university</td>\n",
       "      <td>0.0000</td>\n",
       "    </tr>\n",
       "    <tr>\n",
       "      <th>7</th>\n",
       "      <td>hr senior specialist</td>\n",
       "      <td>San Francisco Bay Area</td>\n",
       "      <td>500</td>\n",
       "      <td>NaN</td>\n",
       "      <td>hr senior specialist</td>\n",
       "      <td>0.0000</td>\n",
       "    </tr>\n",
       "    <tr>\n",
       "      <th>97</th>\n",
       "      <td>student</td>\n",
       "      <td>Houston, Texas Area</td>\n",
       "      <td>4</td>\n",
       "      <td>NaN</td>\n",
       "      <td>student</td>\n",
       "      <td>0.0000</td>\n",
       "    </tr>\n",
       "    <tr>\n",
       "      <th>10</th>\n",
       "      <td>student chapman university</td>\n",
       "      <td>Lake Forest, California</td>\n",
       "      <td>2</td>\n",
       "      <td>NaN</td>\n",
       "      <td>student chapman university</td>\n",
       "      <td>0.0000</td>\n",
       "    </tr>\n",
       "    <tr>\n",
       "      <th>95</th>\n",
       "      <td>student indiana university kokomo business man...</td>\n",
       "      <td>Lafayette, Indiana</td>\n",
       "      <td>19</td>\n",
       "      <td>NaN</td>\n",
       "      <td>student indiana university kokomo business man...</td>\n",
       "      <td>0.0000</td>\n",
       "    </tr>\n",
       "    <tr>\n",
       "      <th>11</th>\n",
       "      <td>svp chro marketing communications csr officer ...</td>\n",
       "      <td>Houston, Texas Area</td>\n",
       "      <td>500</td>\n",
       "      <td>NaN</td>\n",
       "      <td>svp chro marketing communication csr officer e...</td>\n",
       "      <td>0.0000</td>\n",
       "    </tr>\n",
       "    <tr>\n",
       "      <th>84</th>\n",
       "      <td>rrp brand portfolio executive jti japan tobacc...</td>\n",
       "      <td>Greater Philadelphia Area</td>\n",
       "      <td>500</td>\n",
       "      <td>NaN</td>\n",
       "      <td>rrp brand portfolio executive jti japan tobacc...</td>\n",
       "      <td>0.0000</td>\n",
       "    </tr>\n",
       "    <tr>\n",
       "      <th>92</th>\n",
       "      <td>admissions representative community medical ce...</td>\n",
       "      <td>Long Beach, California</td>\n",
       "      <td>9</td>\n",
       "      <td>NaN</td>\n",
       "      <td>admission representative community medical cen...</td>\n",
       "      <td>0.0000</td>\n",
       "    </tr>\n",
       "    <tr>\n",
       "      <th>90</th>\n",
       "      <td>lead official western illinois university</td>\n",
       "      <td>Greater Chicago Area</td>\n",
       "      <td>39</td>\n",
       "      <td>NaN</td>\n",
       "      <td>lead official western illinois university</td>\n",
       "      <td>0.0000</td>\n",
       "    </tr>\n",
       "    <tr>\n",
       "      <th>89</th>\n",
       "      <td>undergraduate research assistant styczynski lab</td>\n",
       "      <td>Greater Atlanta Area</td>\n",
       "      <td>155</td>\n",
       "      <td>NaN</td>\n",
       "      <td>undergraduate research assistant styczynski lab</td>\n",
       "      <td>0.0000</td>\n",
       "    </tr>\n",
       "    <tr>\n",
       "      <th>1</th>\n",
       "      <td>native english teacher epik english program korea</td>\n",
       "      <td>Kanada</td>\n",
       "      <td>500</td>\n",
       "      <td>NaN</td>\n",
       "      <td>native english teacher epik english program korea</td>\n",
       "      <td>0.0000</td>\n",
       "    </tr>\n",
       "    <tr>\n",
       "      <th>79</th>\n",
       "      <td>junior mes engineer information systems</td>\n",
       "      <td>Myrtle Beach, South Carolina Area</td>\n",
       "      <td>52</td>\n",
       "      <td>NaN</td>\n",
       "      <td>junior me engineer information system</td>\n",
       "      <td>0.0000</td>\n",
       "    </tr>\n",
       "    <tr>\n",
       "      <th>86</th>\n",
       "      <td>bachelor science biology victoria university w...</td>\n",
       "      <td>Baltimore, Maryland</td>\n",
       "      <td>40</td>\n",
       "      <td>NaN</td>\n",
       "      <td>bachelor science biology victoria university w...</td>\n",
       "      <td>0.0000</td>\n",
       "    </tr>\n",
       "    <tr>\n",
       "      <th>85</th>\n",
       "      <td>information systems specialist programmer love...</td>\n",
       "      <td>Gaithersburg, Maryland</td>\n",
       "      <td>4</td>\n",
       "      <td>NaN</td>\n",
       "      <td>information system specialist programmer love ...</td>\n",
       "      <td>0.0000</td>\n",
       "    </tr>\n",
       "    <tr>\n",
       "      <th>103</th>\n",
       "      <td>director administration excellence logging</td>\n",
       "      <td>Katy, Texas</td>\n",
       "      <td>500</td>\n",
       "      <td>NaN</td>\n",
       "      <td>director administration excellence logging</td>\n",
       "      <td>0.0000</td>\n",
       "    </tr>\n",
       "  </tbody>\n",
       "</table>\n",
       "</div>"
      ],
      "text/plain": [
       "                                             job_title  \\\n",
       "2                aspiring human resources professional   \n",
       "5                  aspiring human resources specialist   \n",
       "98                    seeking human resources position   \n",
       "96               aspiring human resources professional   \n",
       "27               seeking human resources opportunities   \n",
       "73                        human resources professional   \n",
       "72   aspiring human resources manager seeking inter...   \n",
       "26   aspiring human resources management student se...   \n",
       "77                  human resources generalist schwans   \n",
       "67                human resources specialist luxottica   \n",
       "100                 human resources generalist loparex   \n",
       "87                    human resources management major   \n",
       "88                         director human resources ey   \n",
       "9    seeking human resources hris generalist positions   \n",
       "78   liberal arts major aspiring human resources an...   \n",
       "71   business management major aspiring human resou...   \n",
       "81   aspiring human resources professional energeti...   \n",
       "65   experienced retail manager aspiring human reso...   \n",
       "93   seeking human resources opportunities open tra...   \n",
       "6    student humber college aspiring human resource...   \n",
       "70          human resources generalist scottmadden inc   \n",
       "66    human resources staffing recruiting professional   \n",
       "74   nortia staffing seeking human resources payrol...   \n",
       "12   human resources coordinator intercontinental b...   \n",
       "99   aspiring human resources manager graduating ma...   \n",
       "68   director human resources north america groupe ...   \n",
       "83   human resources professional world leader gis ...   \n",
       "80   senior human resources business partner heil e...   \n",
       "76   human resources conflict management policies p...   \n",
       "69   retired army national guard recruiter office m...   \n",
       "75   aspiring human resources professional passiona...   \n",
       "0    ct bauer college business graduate magna cum l...   \n",
       "91   seeking employment opportunities within custom...   \n",
       "82              hr manager endemol shine north america   \n",
       "94                  student westfield state university   \n",
       "102                                 always set success   \n",
       "101          business intelligence analytics travelers   \n",
       "3                  people development coordinator ryan   \n",
       "4         advisory board member celal bayar university   \n",
       "7                                 hr senior specialist   \n",
       "97                                             student   \n",
       "10                          student chapman university   \n",
       "95   student indiana university kokomo business man...   \n",
       "11   svp chro marketing communications csr officer ...   \n",
       "84   rrp brand portfolio executive jti japan tobacc...   \n",
       "92   admissions representative community medical ce...   \n",
       "90           lead official western illinois university   \n",
       "89     undergraduate research assistant styczynski lab   \n",
       "1    native english teacher epik english program korea   \n",
       "79             junior mes engineer information systems   \n",
       "86   bachelor science biology victoria university w...   \n",
       "85   information systems specialist programmer love...   \n",
       "103         director administration excellence logging   \n",
       "\n",
       "                                location  connection  fit  \\\n",
       "2    Raleigh-Durham, North Carolina Area          44  NaN   \n",
       "5             Greater New York City Area           1  NaN   \n",
       "98                Las Vegas, Nevada Area          48  NaN   \n",
       "96                  Kokomo, Indiana Area          71  NaN   \n",
       "27                     Chicago, Illinois         390  NaN   \n",
       "73                   Greater Boston Area          16  NaN   \n",
       "72                   Houston, Texas Area           7  NaN   \n",
       "26                   Houston, Texas Area         500  NaN   \n",
       "77           Amerika Birleşik Devletleri         500  NaN   \n",
       "67            Greater New York City Area         500  NaN   \n",
       "100  Raleigh-Durham, North Carolina Area         500  NaN   \n",
       "87                  Milpitas, California          18  NaN   \n",
       "88                  Greater Atlanta Area         349  NaN   \n",
       "9              Greater Philadelphia Area         500  NaN   \n",
       "78           Baton Rouge, Louisiana Area           7  NaN   \n",
       "71                Monroe, Louisiana Area           5  NaN   \n",
       "81                    Austin, Texas Area         174  NaN   \n",
       "65                    Austin, Texas Area          57  NaN   \n",
       "93           Amerika Birleşik Devletleri         415  NaN   \n",
       "6                                 Kanada          61  NaN   \n",
       "70   Raleigh-Durham, North Carolina Area         500  NaN   \n",
       "66             Jackson, Mississippi Area         500  NaN   \n",
       "74                  San Jose, California         500  NaN   \n",
       "12                      Atlanta, Georgia         500  NaN   \n",
       "99              Cape Girardeau, Missouri         103  NaN   \n",
       "68   Greater Grand Rapids, Michigan Area         500  NaN   \n",
       "83                  Highland, California          50  NaN   \n",
       "80           Chattanooga, Tennessee Area         455  NaN   \n",
       "76                Dallas/Fort Worth Area         409  NaN   \n",
       "69              Virginia Beach, Virginia          82  NaN   \n",
       "75                    New York, New York         212  NaN   \n",
       "0                         Houston, Texas          85  NaN   \n",
       "91                  Torrance, California          64  NaN   \n",
       "82               Los Angeles, California         268  NaN   \n",
       "94            Bridgewater, Massachusetts          57  NaN   \n",
       "102             Greater Los Angeles Area         500  NaN   \n",
       "101           Greater New York City Area          49  NaN   \n",
       "3                          Denton, Texas         500  NaN   \n",
       "4                         İzmir, Türkiye         500  NaN   \n",
       "7                 San Francisco Bay Area         500  NaN   \n",
       "97                   Houston, Texas Area           4  NaN   \n",
       "10               Lake Forest, California           2  NaN   \n",
       "95                    Lafayette, Indiana          19  NaN   \n",
       "11                   Houston, Texas Area         500  NaN   \n",
       "84             Greater Philadelphia Area         500  NaN   \n",
       "92                Long Beach, California           9  NaN   \n",
       "90                  Greater Chicago Area          39  NaN   \n",
       "89                  Greater Atlanta Area         155  NaN   \n",
       "1                                 Kanada         500  NaN   \n",
       "79     Myrtle Beach, South Carolina Area          52  NaN   \n",
       "86                   Baltimore, Maryland          40  NaN   \n",
       "85                Gaithersburg, Maryland           4  NaN   \n",
       "103                          Katy, Texas         500  NaN   \n",
       "\n",
       "                                     lemmatized_titles  Jaccard Score  \n",
       "2                 aspiring human resource professional         0.5750  \n",
       "5                   aspiring human resource specialist         0.5750  \n",
       "98                     seeking human resource position         0.5750  \n",
       "96                aspiring human resource professional         0.5750  \n",
       "27                  seeking human resource opportunity         0.5750  \n",
       "73                         human resource professional         0.5000  \n",
       "72   aspiring human resource manager seeking intern...         0.5000  \n",
       "26   aspiring human resource management student see...         0.4290  \n",
       "77                   human resource generalist schwans         0.4000  \n",
       "67                 human resource specialist luxottica         0.4000  \n",
       "100                  human resource generalist loparex         0.4000  \n",
       "87                     human resource management major         0.4000  \n",
       "88                          director human resource ey         0.4000  \n",
       "9      seeking human resource hris generalist position         0.3930  \n",
       "78   liberal art major aspiring human resource analyst         0.3395  \n",
       "71   business management major aspiring human resou...         0.3395  \n",
       "81   aspiring human resource professional energetic...         0.3395  \n",
       "65   experienced retail manager aspiring human reso...         0.3395  \n",
       "93   seeking human resource opportunity open travel...         0.3395  \n",
       "6    student humber college aspiring human resource...         0.3395  \n",
       "70           human resource generalist scottmadden inc         0.3330  \n",
       "66     human resource staffing recruiting professional         0.3330  \n",
       "74   nortia staffing seeking human resource payroll...         0.2985  \n",
       "12   human resource coordinator intercontinental bu...         0.2860  \n",
       "99   aspiring human resource manager graduating may...         0.2730  \n",
       "68   director human resource north america groupe b...         0.2500  \n",
       "83   human resource professional world leader gi so...         0.2500  \n",
       "80   senior human resource business partner heil en...         0.2500  \n",
       "76   human resource conflict management policy proc...         0.2220  \n",
       "69   retired army national guard recruiter office m...         0.2200  \n",
       "75   aspiring human resource professional passionat...         0.2200  \n",
       "0    ct bauer college business graduate magna cum l...         0.2020  \n",
       "91   seeking employment opportunity within customer...         0.0500  \n",
       "82              hr manager endemol shine north america         0.0000  \n",
       "94                  student westfield state university         0.0000  \n",
       "102                                 always set success         0.0000  \n",
       "101           business intelligence analytics traveler         0.0000  \n",
       "3                  people development coordinator ryan         0.0000  \n",
       "4         advisory board member celal bayar university         0.0000  \n",
       "7                                 hr senior specialist         0.0000  \n",
       "97                                             student         0.0000  \n",
       "10                          student chapman university         0.0000  \n",
       "95   student indiana university kokomo business man...         0.0000  \n",
       "11   svp chro marketing communication csr officer e...         0.0000  \n",
       "84   rrp brand portfolio executive jti japan tobacc...         0.0000  \n",
       "92   admission representative community medical cen...         0.0000  \n",
       "90           lead official western illinois university         0.0000  \n",
       "89     undergraduate research assistant styczynski lab         0.0000  \n",
       "1    native english teacher epik english program korea         0.0000  \n",
       "79               junior me engineer information system         0.0000  \n",
       "86   bachelor science biology victoria university w...         0.0000  \n",
       "85   information system specialist programmer love ...         0.0000  \n",
       "103         director administration excellence logging         0.0000  "
      ]
     },
     "execution_count": 35,
     "metadata": {},
     "output_type": "execute_result"
    }
   ],
   "source": [
    "# Store jaccard score to our dataset\n",
    "data_copy['Jaccard Score'] = jaccard_score \n",
    "data_copy.sort_values(by=\"Jaccard Score\", ascending=False) # Re-arrange our data in descending order based on the jaccard score\n"
   ]
  },
  {
   "cell_type": "markdown",
   "id": "073a13e8",
   "metadata": {
    "papermill": {
     "duration": 0.033066,
     "end_time": "2022-12-04T15:04:47.079418",
     "exception": false,
     "start_time": "2022-12-04T15:04:47.046352",
     "status": "completed"
    },
    "tags": []
   },
   "source": [
    "### 2. Using Cosine Similarity"
   ]
  },
  {
   "cell_type": "markdown",
   "id": "504ae0c0",
   "metadata": {
    "papermill": {
     "duration": 0.035941,
     "end_time": "2022-12-04T15:04:47.149720",
     "exception": false,
     "start_time": "2022-12-04T15:04:47.113779",
     "status": "completed"
    },
    "tags": []
   },
   "source": [
    "We now have to calculate cosine similarity score so we compare both the scores in the end and see which one performed better. Remember that cosine similarity method takes in numeric inputs. That means that we first need to convert our sentences/ job titles and keywords into vector representations before we calculate cosine similarity score. Now, there are numerous ways to do this. The traditional way is using one-hot vector but it won't be suitable for our case since we're dealing with text unlabeled data. Instead, we will play around different word embeddings methods such as `Word2Vec`, `Glove` and`BERT` embeddings to see which one does a better job.\n",
    "\n",
    "Additionally, it is important to note that word2vec and glove embeddings do not account for word context. BERT embeddings on the other hand learns contextual representations on unlabeled data."
   ]
  },
  {
   "cell_type": "markdown",
   "id": "96def37e",
   "metadata": {
    "papermill": {
     "duration": 0.034223,
     "end_time": "2022-12-04T15:04:47.220083",
     "exception": false,
     "start_time": "2022-12-04T15:04:47.185860",
     "status": "completed"
    },
    "tags": []
   },
   "source": [
    "#### 2.1. Doc2Vec Embeddings"
   ]
  },
  {
   "cell_type": "markdown",
   "id": "44078588",
   "metadata": {
    "papermill": {
     "duration": 0.035109,
     "end_time": "2022-12-04T15:04:47.291086",
     "exception": false,
     "start_time": "2022-12-04T15:04:47.255977",
     "status": "completed"
    },
    "tags": []
   },
   "source": [
    "Word2Vec tries to learn relationships between words and embeds them in a lower-dimensional vector space. To do this, word2vec trains words against other words that neighbor them in the input corpus, capturing some of the meaning in the sequence of words."
   ]
  },
  {
   "cell_type": "code",
   "execution_count": null,
   "id": "e7bd59ec",
   "metadata": {
    "execution": {
     "iopub.execute_input": "2022-12-04T13:57:04.562882Z",
     "iopub.status.busy": "2022-12-04T13:57:04.562488Z",
     "iopub.status.idle": "2022-12-04T13:57:04.571147Z",
     "shell.execute_reply": "2022-12-04T13:57:04.570049Z",
     "shell.execute_reply.started": "2022-12-04T13:57:04.562850Z"
    },
    "papermill": {
     "duration": null,
     "end_time": null,
     "exception": false,
     "start_time": "2022-12-04T15:04:47.325983",
     "status": "running"
    },
    "tags": []
   },
   "outputs": [],
   "source": [
    "#Checking if current directory already has trained model\n",
    "train_doc2vec_model = os.path.isfile('my_doc2vec_model')\n",
    "if  train_doc2vec_model == False:\n",
    "    dataset = api.load(\"text8\")\n",
    "    data = [d for d in dataset]\n",
    "    def tagged_document(list_of_list_of_words):\n",
    "        for i, list_of_words in enumerate(list_of_list_of_words):\n",
    "            yield gensim.models.doc2vec.TaggedDocument(list_of_words, [i])\n",
    "    \n",
    "    data_training = list(tagged_document(data))\n",
    "    Doc2Vec_model  = gensim.models.doc2vec.Doc2Vec(vector_size=300, min_count=3, epochs=150)\n",
    "    Doc2Vec_model.build_vocab(data_training)\n",
    "\n",
    "    Doc2Vec_model.train(data_training, total_examples=Doc2Vec_model.corpus_count, epochs=Doc2Vec_model.epochs)\n",
    "    fname = \"my_doc2vec_model\"\n",
    "    Doc2Vec_model.save(fname)"
   ]
  },
  {
   "cell_type": "code",
   "execution_count": null,
   "id": "f6a665e8",
   "metadata": {
    "execution": {
     "iopub.execute_input": "2022-12-04T13:57:04.804308Z",
     "iopub.status.busy": "2022-12-04T13:57:04.803860Z",
     "iopub.status.idle": "2022-12-04T13:57:07.424416Z",
     "shell.execute_reply": "2022-12-04T13:57:07.423294Z",
     "shell.execute_reply.started": "2022-12-04T13:57:04.804270Z"
    },
    "papermill": {
     "duration": null,
     "end_time": null,
     "exception": null,
     "start_time": null,
     "status": "pending"
    },
    "tags": []
   },
   "outputs": [],
   "source": [
    "# Loading doc2vec model\n",
    "doc2vec = Doc2Vec.load('my_doc2vec_model')"
   ]
  },
  {
   "cell_type": "code",
   "execution_count": null,
   "id": "032c11fd",
   "metadata": {
    "execution": {
     "iopub.execute_input": "2022-12-04T13:57:07.426880Z",
     "iopub.status.busy": "2022-12-04T13:57:07.426225Z",
     "iopub.status.idle": "2022-12-04T13:57:07.434199Z",
     "shell.execute_reply": "2022-12-04T13:57:07.433204Z",
     "shell.execute_reply.started": "2022-12-04T13:57:07.426839Z"
    },
    "papermill": {
     "duration": null,
     "end_time": null,
     "exception": null,
     "start_time": null,
     "status": "pending"
    },
    "tags": []
   },
   "outputs": [],
   "source": [
    "def get_doc2vec_embeddings(job_titles, doc2vec_model):\n",
    "    \"\"\"\n",
    "    Finds the the doc2vec vectors for Job titles.\n",
    "    args:\n",
    "    list of job titles \n",
    "    doc2vec_model (dictionary): Doc2Vec pre trained embeddings \n",
    "    \n",
    "    return:   \n",
    "    doc2vec_vectors (list) : list of doc2vec_vectors for job titles\n",
    "    \n",
    "    \"\"\"\n",
    "    doc2vec_vectors = []\n",
    "    for title in job_titles:\n",
    "        sentence_tokens = word_tokenize(title) # break down sentence into words\n",
    "        tokens = list(filter(lambda x: x in doc2vec_model.wv.index_to_key, sentence_tokens)) # get tokens that are on the pre-trained model\n",
    "        doc2vec_vectors.append(doc2vec_model.infer_vector(tokens))\n",
    "    \n",
    "    return doc2vec_vectors"
   ]
  },
  {
   "cell_type": "code",
   "execution_count": null,
   "id": "42570870",
   "metadata": {
    "execution": {
     "iopub.execute_input": "2022-12-04T13:57:07.435679Z",
     "iopub.status.busy": "2022-12-04T13:57:07.435336Z",
     "iopub.status.idle": "2022-12-04T13:57:07.842090Z",
     "shell.execute_reply": "2022-12-04T13:57:07.841012Z",
     "shell.execute_reply.started": "2022-12-04T13:57:07.435650Z"
    },
    "papermill": {
     "duration": null,
     "end_time": null,
     "exception": null,
     "start_time": null,
     "status": "pending"
    },
    "tags": []
   },
   "outputs": [],
   "source": [
    "# Getting vector representation of ourjob titles and our keywords\n",
    "doc2vec_vectors = get_doc2vec_embeddings(data_copy.job_title.values, doc2vec)\n",
    "doc2vec_search_vectors = get_doc2vec_embeddings(keywords, doc2vec)"
   ]
  },
  {
   "cell_type": "markdown",
   "id": "e10ac3c4",
   "metadata": {
    "papermill": {
     "duration": null,
     "end_time": null,
     "exception": null,
     "start_time": null,
     "status": "pending"
    },
    "tags": []
   },
   "source": [
    "Now, we calculate cosine similarity score."
   ]
  },
  {
   "cell_type": "code",
   "execution_count": null,
   "id": "5e7d38d5",
   "metadata": {
    "execution": {
     "iopub.execute_input": "2022-12-04T13:57:07.844987Z",
     "iopub.status.busy": "2022-12-04T13:57:07.844677Z",
     "iopub.status.idle": "2022-12-04T13:57:07.910423Z",
     "shell.execute_reply": "2022-12-04T13:57:07.909384Z",
     "shell.execute_reply.started": "2022-12-04T13:57:07.844958Z"
    },
    "papermill": {
     "duration": null,
     "end_time": null,
     "exception": null,
     "start_time": null,
     "status": "pending"
    },
    "tags": []
   },
   "outputs": [],
   "source": [
    "# Cosine similarity\n",
    "doc2vec_score = []\n",
    "for i in range(len(doc2vec_vectors)) :\n",
    "    score1 = cosine_similarity(np.reshape(doc2vec_vectors[i],(1,-1)), np.reshape(doc2vec_search_vectors[0],(1,-1)))\n",
    "    score2 = cosine_similarity(np.reshape(doc2vec_vectors[i],(1,-1)), np.reshape(doc2vec_search_vectors[1],(1,-1)))\n",
    "    doc2vec_score.append(np.mean(np.concatenate((score1,score2)).flatten()))\n",
    "    \n",
    "data_copy['Doc2Vec Score'] = doc2vec_score\n",
    "data_copy.sort_values(by=['Doc2Vec Score'],ascending=False)"
   ]
  },
  {
   "cell_type": "markdown",
   "id": "b108763f",
   "metadata": {
    "papermill": {
     "duration": null,
     "end_time": null,
     "exception": null,
     "start_time": null,
     "status": "pending"
    },
    "tags": []
   },
   "source": [
    "#### 2.2. Glove Embeddings"
   ]
  },
  {
   "cell_type": "code",
   "execution_count": null,
   "id": "a1795d1a",
   "metadata": {
    "execution": {
     "iopub.execute_input": "2022-12-04T13:57:07.911991Z",
     "iopub.status.busy": "2022-12-04T13:57:07.911708Z",
     "iopub.status.idle": "2022-12-04T13:57:07.917081Z",
     "shell.execute_reply": "2022-12-04T13:57:07.915937Z",
     "shell.execute_reply.started": "2022-12-04T13:57:07.911966Z"
    },
    "papermill": {
     "duration": null,
     "end_time": null,
     "exception": null,
     "start_time": null,
     "status": "pending"
    },
    "tags": []
   },
   "outputs": [],
   "source": [
    "# Checking if there's already any Glove trained model\n",
    "download_GloVe_embeddings = os.path.isfile('glove.42B.300d.txt.word2vec')\n"
   ]
  },
  {
   "cell_type": "code",
   "execution_count": null,
   "id": "94a73ca8",
   "metadata": {
    "execution": {
     "iopub.execute_input": "2022-12-04T13:57:07.918848Z",
     "iopub.status.busy": "2022-12-04T13:57:07.918565Z",
     "iopub.status.idle": "2022-12-04T13:57:07.926919Z",
     "shell.execute_reply": "2022-12-04T13:57:07.926152Z",
     "shell.execute_reply.started": "2022-12-04T13:57:07.918822Z"
    },
    "papermill": {
     "duration": null,
     "end_time": null,
     "exception": null,
     "start_time": null,
     "status": "pending"
    },
    "tags": []
   },
   "outputs": [],
   "source": [
    "download_GloVe_embeddings"
   ]
  },
  {
   "cell_type": "code",
   "execution_count": null,
   "id": "d658190a",
   "metadata": {
    "execution": {
     "iopub.execute_input": "2022-12-04T13:57:07.928942Z",
     "iopub.status.busy": "2022-12-04T13:57:07.927917Z",
     "iopub.status.idle": "2022-12-04T13:57:07.937455Z",
     "shell.execute_reply": "2022-12-04T13:57:07.936393Z",
     "shell.execute_reply.started": "2022-12-04T13:57:07.928899Z"
    },
    "papermill": {
     "duration": null,
     "end_time": null,
     "exception": null,
     "start_time": null,
     "status": "pending"
    },
    "tags": []
   },
   "outputs": [],
   "source": [
    "if  download_GloVe_embeddings== False:\n",
    "    url = 'http://nlp.stanford.edu/data/glove.42B.300d.zip'\n",
    "    filename = wget.download(url)\n",
    "    print(filename)\n",
    "    shutil.unpack_archive('glove.42B.300d.zip')\n",
    "    glove_filename='glove.42B.300d.txt'\n",
    "    word2vec_output_file = glove_filename+'.word2vec'\n",
    "    glove2word2vec(glove_filename, word2vec_output_file)"
   ]
  },
  {
   "cell_type": "markdown",
   "id": "3a119a52",
   "metadata": {
    "papermill": {
     "duration": null,
     "end_time": null,
     "exception": null,
     "start_time": null,
     "status": "pending"
    },
    "tags": []
   },
   "source": [
    "Load glove embeddings that were converted word2vec format"
   ]
  },
  {
   "cell_type": "code",
   "execution_count": null,
   "id": "83ab9e3c",
   "metadata": {
    "execution": {
     "iopub.execute_input": "2022-12-04T13:57:07.938940Z",
     "iopub.status.busy": "2022-12-04T13:57:07.938667Z",
     "iopub.status.idle": "2022-12-04T14:01:56.429738Z",
     "shell.execute_reply": "2022-12-04T14:01:56.428593Z",
     "shell.execute_reply.started": "2022-12-04T13:57:07.938914Z"
    },
    "papermill": {
     "duration": null,
     "end_time": null,
     "exception": null,
     "start_time": null,
     "status": "pending"
    },
    "tags": []
   },
   "outputs": [],
   "source": [
    "glove_model = KeyedVectors.load_word2vec_format('glove.42B.300d.txt.word2vec', binary=False)"
   ]
  },
  {
   "cell_type": "code",
   "execution_count": null,
   "id": "412c2ce6",
   "metadata": {
    "execution": {
     "iopub.execute_input": "2022-12-04T14:01:56.431152Z",
     "iopub.status.busy": "2022-12-04T14:01:56.430886Z",
     "iopub.status.idle": "2022-12-04T14:01:56.439040Z",
     "shell.execute_reply": "2022-12-04T14:01:56.438084Z",
     "shell.execute_reply.started": "2022-12-04T14:01:56.431127Z"
    },
    "papermill": {
     "duration": null,
     "end_time": null,
     "exception": null,
     "start_time": null,
     "status": "pending"
    },
    "tags": []
   },
   "outputs": [],
   "source": [
    "def get_glove_embeddings(job_titles, glove_model):\n",
    "    \"\"\"\n",
    "    args: \n",
    "    job_titles: list of job titles\n",
    "    glove_model (dictionary): Glove pre trained embeddings \n",
    "    return: \n",
    "    glove_vectors (list): list of Glove Vectors for job titles\n",
    "    \"\"\"\n",
    "    \n",
    "    # Tokenize each job title => find if its words are in glove model\n",
    "    # => then find them embeddings\n",
    "    glove_vectors = []\n",
    "    for title in job_titles:\n",
    "        token_vector = []\n",
    "        tokens = word_tokenize(title)\n",
    "        words_in_glove = [word for word in tokens if word in glove_model.index_to_key]\n",
    "        \n",
    "        for token in tokens:\n",
    "            if token in words_in_glove:\n",
    "                vector = glove_model[token]\n",
    "                token_vector.append(vector)\n",
    "        glove_vectors.append(token_vector)        \n",
    "                        \n",
    "    return glove_vectors"
   ]
  },
  {
   "cell_type": "code",
   "execution_count": null,
   "id": "4ac8c0ae",
   "metadata": {
    "execution": {
     "iopub.execute_input": "2022-12-04T14:01:56.442352Z",
     "iopub.status.busy": "2022-12-04T14:01:56.442080Z",
     "iopub.status.idle": "2022-12-04T14:01:56.941060Z",
     "shell.execute_reply": "2022-12-04T14:01:56.940042Z",
     "shell.execute_reply.started": "2022-12-04T14:01:56.442326Z"
    },
    "papermill": {
     "duration": null,
     "end_time": null,
     "exception": null,
     "start_time": null,
     "status": "pending"
    },
    "tags": []
   },
   "outputs": [],
   "source": [
    "# Vectorize job titles and keywords  for the calculation of cosine similarity score\n",
    "glove_vectors = get_glove_embeddings(list(data_copy.job_title), glove_model)\n",
    "search_vectors = get_glove_embeddings(keywords, glove_model)"
   ]
  },
  {
   "cell_type": "markdown",
   "id": "e5828a77",
   "metadata": {
    "papermill": {
     "duration": null,
     "end_time": null,
     "exception": null,
     "start_time": null,
     "status": "pending"
    },
    "tags": []
   },
   "source": [
    "Now, we calculate cosine similarity score."
   ]
  },
  {
   "cell_type": "code",
   "execution_count": null,
   "id": "e9af6925",
   "metadata": {
    "execution": {
     "iopub.execute_input": "2022-12-04T14:01:56.944449Z",
     "iopub.status.busy": "2022-12-04T14:01:56.943933Z",
     "iopub.status.idle": "2022-12-04T14:01:56.986543Z",
     "shell.execute_reply": "2022-12-04T14:01:56.985461Z",
     "shell.execute_reply.started": "2022-12-04T14:01:56.944404Z"
    },
    "papermill": {
     "duration": null,
     "end_time": null,
     "exception": null,
     "start_time": null,
     "status": "pending"
    },
    "tags": []
   },
   "outputs": [],
   "source": [
    "# Cosine Similarity\n",
    "glove_score = []\n",
    "\n",
    "for i in range(len(glove_vectors)):\n",
    "    score0 = cosine_similarity(glove_vectors[i], search_vectors[0])\n",
    "    score1 = cosine_similarity(glove_vectors[i], search_vectors[1])\n",
    "    \n",
    "    glove_score.append((np.mean(score0.flatten()) + np.mean(score1.flatten()) / 2))"
   ]
  },
  {
   "cell_type": "code",
   "execution_count": null,
   "id": "ca369acc",
   "metadata": {
    "execution": {
     "iopub.execute_input": "2022-12-04T14:01:56.987929Z",
     "iopub.status.busy": "2022-12-04T14:01:56.987638Z",
     "iopub.status.idle": "2022-12-04T14:01:57.016707Z",
     "shell.execute_reply": "2022-12-04T14:01:57.015526Z",
     "shell.execute_reply.started": "2022-12-04T14:01:56.987902Z"
    },
    "papermill": {
     "duration": null,
     "end_time": null,
     "exception": null,
     "start_time": null,
     "status": "pending"
    },
    "tags": []
   },
   "outputs": [],
   "source": [
    "# Add the Glove Score on our dataset and re-arrange dataset in descending order based on the Glove Score\n",
    "data_copy['Glove Score'] = glove_score\n",
    "data_copy.sort_values(by=['Glove Score'], ascending=False)"
   ]
  },
  {
   "cell_type": "markdown",
   "id": "1654968a",
   "metadata": {
    "papermill": {
     "duration": null,
     "end_time": null,
     "exception": null,
     "start_time": null,
     "status": "pending"
    },
    "tags": []
   },
   "source": [
    "#### 2.3. BERT Embeddings"
   ]
  },
  {
   "cell_type": "code",
   "execution_count": null,
   "id": "185485c7",
   "metadata": {
    "execution": {
     "iopub.execute_input": "2022-12-04T14:01:57.018404Z",
     "iopub.status.busy": "2022-12-04T14:01:57.017943Z",
     "iopub.status.idle": "2022-12-04T14:02:34.488109Z",
     "shell.execute_reply": "2022-12-04T14:02:34.487266Z",
     "shell.execute_reply.started": "2022-12-04T14:01:57.018366Z"
    },
    "papermill": {
     "duration": null,
     "end_time": null,
     "exception": null,
     "start_time": null,
     "status": "pending"
    },
    "tags": []
   },
   "outputs": [],
   "source": [
    "# Build BERT_base model\n",
    "bert_model = SentenceTransformer('bert-base-nli-mean-tokens')\n",
    "bert_vectors = bert_model.encode(data_copy.job_title.values)\n",
    "bert_search_vectors = bert_model.encode(keywords)"
   ]
  },
  {
   "cell_type": "code",
   "execution_count": null,
   "id": "ef683432",
   "metadata": {
    "execution": {
     "iopub.execute_input": "2022-12-04T14:02:34.491188Z",
     "iopub.status.busy": "2022-12-04T14:02:34.490304Z",
     "iopub.status.idle": "2022-12-04T14:02:34.556700Z",
     "shell.execute_reply": "2022-12-04T14:02:34.555701Z",
     "shell.execute_reply.started": "2022-12-04T14:02:34.491151Z"
    },
    "papermill": {
     "duration": null,
     "end_time": null,
     "exception": null,
     "start_time": null,
     "status": "pending"
    },
    "tags": []
   },
   "outputs": [],
   "source": [
    "# Cosine similarity\n",
    "bert_score = []\n",
    "for i in range(len(doc2vec_vectors)) :\n",
    "    score1 = cosine_similarity(np.reshape(bert_vectors[i],(1,-1)), np.reshape(bert_search_vectors[0],(1,-1)))\n",
    "    score2 = cosine_similarity(np.reshape(bert_vectors[i],(1,-1)), np.reshape(bert_search_vectors[1],(1,-1)))\n",
    "    bert_score.append(np.mean(np.concatenate((score1,score2)).flatten()))\n",
    "    \n",
    "data_copy['BERT Score'] = bert_score\n",
    "data_copy.sort_values(by=['BERT Score'],ascending=False)"
   ]
  },
  {
   "cell_type": "code",
   "execution_count": null,
   "id": "788caa13",
   "metadata": {
    "execution": {
     "iopub.execute_input": "2022-12-04T14:02:34.558231Z",
     "iopub.status.busy": "2022-12-04T14:02:34.557896Z",
     "iopub.status.idle": "2022-12-04T14:02:35.416594Z",
     "shell.execute_reply": "2022-12-04T14:02:35.415485Z",
     "shell.execute_reply.started": "2022-12-04T14:02:34.558179Z"
    },
    "papermill": {
     "duration": null,
     "end_time": null,
     "exception": null,
     "start_time": null,
     "status": "pending"
    },
    "tags": []
   },
   "outputs": [],
   "source": [
    "data_copy.sort_values(by=['BERT Score'],ascending=False).head()"
   ]
  },
  {
   "cell_type": "markdown",
   "id": "50383360",
   "metadata": {
    "papermill": {
     "duration": null,
     "end_time": null,
     "exception": null,
     "start_time": null,
     "status": "pending"
    },
    "tags": []
   },
   "source": [
    "Above, we've printed the first 5 candidates with the highest BERT Score. From these rows, we can see that the highest BERT Score is more than 90 percent meaning that candidate 98 who lives in Las Vegas has been predicted to be the most fitted candidate for the searched jobs, but their number of connections is 48, which is really small compared to most of the candidates.\n",
    "\n",
    "Now what we must do now is to include the `connection` column in the calculation of the fitted score."
   ]
  },
  {
   "cell_type": "code",
   "execution_count": null,
   "id": "d0e9ade7",
   "metadata": {
    "execution": {
     "iopub.execute_input": "2022-12-04T14:12:38.826137Z",
     "iopub.status.busy": "2022-12-04T14:12:38.825615Z",
     "iopub.status.idle": "2022-12-04T14:12:38.834586Z",
     "shell.execute_reply": "2022-12-04T14:12:38.833543Z",
     "shell.execute_reply.started": "2022-12-04T14:12:38.826090Z"
    },
    "papermill": {
     "duration": null,
     "end_time": null,
     "exception": null,
     "start_time": null,
     "status": "pending"
    },
    "tags": []
   },
   "outputs": [],
   "source": [
    "def update_fit_score(score,connection):\n",
    "    improved_score = score - (1/(connection+10))\n",
    "    return improved_score\n",
    "\n",
    "def add_connection_to_score(data):\n",
    "    data['Jaccard Score'] = data.apply(lambda x: update_fit_score(x['Jaccard Score'],x['connection']),axis=1)\n",
    "    data['GloVe Score'] = data.apply(lambda x: update_fit_score(x['Glove Score'],x['connection']),axis=1)\n",
    "    data['Doc2Vec Score'] = data.apply(lambda x: update_fit_score(x['Doc2Vec Score'],x['connection']),axis=1)\n",
    "    data['BERT Score'] = data.apply(lambda x: update_fit_score(x['BERT Score'],x['connection']),axis=1)\n",
    "    return data"
   ]
  },
  {
   "cell_type": "code",
   "execution_count": null,
   "id": "ee4d749d",
   "metadata": {
    "execution": {
     "iopub.execute_input": "2022-12-04T14:12:47.735791Z",
     "iopub.status.busy": "2022-12-04T14:12:47.735412Z",
     "iopub.status.idle": "2022-12-04T14:12:47.749169Z",
     "shell.execute_reply": "2022-12-04T14:12:47.748118Z",
     "shell.execute_reply.started": "2022-12-04T14:12:47.735761Z"
    },
    "papermill": {
     "duration": null,
     "end_time": null,
     "exception": null,
     "start_time": null,
     "status": "pending"
    },
    "tags": []
   },
   "outputs": [],
   "source": [
    "final_dataset = add_connection_to_score(data_copy)"
   ]
  },
  {
   "cell_type": "code",
   "execution_count": null,
   "id": "44c57325",
   "metadata": {
    "execution": {
     "iopub.execute_input": "2022-12-04T14:12:50.413068Z",
     "iopub.status.busy": "2022-12-04T14:12:50.412343Z",
     "iopub.status.idle": "2022-12-04T14:12:50.430257Z",
     "shell.execute_reply": "2022-12-04T14:12:50.429139Z",
     "shell.execute_reply.started": "2022-12-04T14:12:50.413027Z"
    },
    "papermill": {
     "duration": null,
     "end_time": null,
     "exception": null,
     "start_time": null,
     "status": "pending"
    },
    "tags": []
   },
   "outputs": [],
   "source": [
    "final_dataset.head()"
   ]
  },
  {
   "cell_type": "code",
   "execution_count": null,
   "id": "a17fadcc",
   "metadata": {
    "execution": {
     "iopub.execute_input": "2022-12-04T14:13:00.671313Z",
     "iopub.status.busy": "2022-12-04T14:13:00.670922Z",
     "iopub.status.idle": "2022-12-04T14:13:00.688697Z",
     "shell.execute_reply": "2022-12-04T14:13:00.687649Z",
     "shell.execute_reply.started": "2022-12-04T14:13:00.671273Z"
    },
    "papermill": {
     "duration": null,
     "end_time": null,
     "exception": null,
     "start_time": null,
     "status": "pending"
    },
    "tags": []
   },
   "outputs": [],
   "source": [
    "# data_copy.sort_values(by=['Jaccard Score'],ascending=False).head()\n",
    "# data_copy.sort_values(by=['Glove Score'],ascending=False).head()\n",
    "# data_copy.sort_values(by=['Doc2Vec Score'],ascending=False).head()\n",
    "# data_copy.sort_values(by=['BERT Score'],ascending=False).head()\n",
    "data_copy.sort_values(by=['GloVe Score'],ascending=False).head()"
   ]
  },
  {
   "cell_type": "markdown",
   "id": "322935bc",
   "metadata": {
    "papermill": {
     "duration": null,
     "end_time": null,
     "exception": null,
     "start_time": null,
     "status": "pending"
    },
    "tags": []
   },
   "source": [
    "The above are the first 5 rows with the highest fit scores and we can see that BERT score is still the highest."
   ]
  },
  {
   "cell_type": "markdown",
   "id": "2c703359",
   "metadata": {
    "papermill": {
     "duration": null,
     "end_time": null,
     "exception": null,
     "start_time": null,
     "status": "pending"
    },
    "tags": []
   },
   "source": [
    "Now we have to set a threshold value to shortlist candidates, let's set it to 0.5"
   ]
  },
  {
   "cell_type": "code",
   "execution_count": null,
   "id": "f1a6b5b4",
   "metadata": {
    "execution": {
     "iopub.execute_input": "2022-12-04T14:32:46.238992Z",
     "iopub.status.busy": "2022-12-04T14:32:46.237986Z",
     "iopub.status.idle": "2022-12-04T14:32:46.245298Z",
     "shell.execute_reply": "2022-12-04T14:32:46.244346Z",
     "shell.execute_reply.started": "2022-12-04T14:32:46.238946Z"
    },
    "papermill": {
     "duration": null,
     "end_time": null,
     "exception": null,
     "start_time": null,
     "status": "pending"
    },
    "tags": []
   },
   "outputs": [],
   "source": [
    "shortlisted_candidates = final_dataset[final_dataset['BERT Score'] >=0.5].shape"
   ]
  },
  {
   "cell_type": "markdown",
   "id": "99be00b8",
   "metadata": {
    "papermill": {
     "duration": null,
     "end_time": null,
     "exception": null,
     "start_time": null,
     "status": "pending"
    },
    "tags": []
   },
   "source": [
    "The above dataset of of all candidates that are shortlisted based on the their BERT fitness score."
   ]
  },
  {
   "cell_type": "markdown",
   "id": "0f886927",
   "metadata": {
    "papermill": {
     "duration": null,
     "end_time": null,
     "exception": null,
     "start_time": null,
     "status": "pending"
    },
    "tags": []
   },
   "source": [
    "### Re-ranking Candidates"
   ]
  },
  {
   "cell_type": "markdown",
   "id": "326be7b6",
   "metadata": {
    "papermill": {
     "duration": null,
     "end_time": null,
     "exception": null,
     "start_time": null,
     "status": "pending"
    },
    "tags": []
   },
   "source": [
    "Now that we have calculated the fitness score, let us re-rank the candidates when a candidate is starred. We will use them as the search keyword and find fitness score using BERT Embeddings and cosine similarity since BERT out performed the others."
   ]
  },
  {
   "cell_type": "code",
   "execution_count": null,
   "id": "0c155a1d",
   "metadata": {
    "execution": {
     "iopub.execute_input": "2022-12-04T14:47:42.766600Z",
     "iopub.status.busy": "2022-12-04T14:47:42.766043Z",
     "iopub.status.idle": "2022-12-04T14:47:47.536673Z",
     "shell.execute_reply": "2022-12-04T14:47:47.535553Z",
     "shell.execute_reply.started": "2022-12-04T14:47:42.766560Z"
    },
    "papermill": {
     "duration": null,
     "end_time": null,
     "exception": null,
     "start_time": null,
     "status": "pending"
    },
    "tags": []
   },
   "outputs": [],
   "source": [
    "starred = input('Enter id of the candidate you would like to starr: ')"
   ]
  },
  {
   "cell_type": "code",
   "execution_count": null,
   "id": "c9bf0358",
   "metadata": {
    "execution": {
     "iopub.execute_input": "2022-12-04T14:53:55.647361Z",
     "iopub.status.busy": "2022-12-04T14:53:55.646171Z",
     "iopub.status.idle": "2022-12-04T14:53:55.810401Z",
     "shell.execute_reply": "2022-12-04T14:53:55.809225Z",
     "shell.execute_reply.started": "2022-12-04T14:53:55.647305Z"
    },
    "papermill": {
     "duration": null,
     "end_time": null,
     "exception": null,
     "start_time": null,
     "status": "pending"
    },
    "tags": []
   },
   "outputs": [],
   "source": [
    "# Represent the job title of the starred candidate as bert vectors\n",
    "rerank_list = final_dataset[final_dataset.index.isin([int(starred)])].job_title.values\n",
    "rerank_bert_vectors = bert_model.encode(rerank_list)"
   ]
  },
  {
   "cell_type": "code",
   "execution_count": null,
   "id": "2c7ce198",
   "metadata": {
    "execution": {
     "iopub.execute_input": "2022-12-04T14:58:57.532474Z",
     "iopub.status.busy": "2022-12-04T14:58:57.530779Z",
     "iopub.status.idle": "2022-12-04T14:58:57.607648Z",
     "shell.execute_reply": "2022-12-04T14:58:57.606349Z",
     "shell.execute_reply.started": "2022-12-04T14:58:57.532397Z"
    },
    "papermill": {
     "duration": null,
     "end_time": null,
     "exception": null,
     "start_time": null,
     "status": "pending"
    },
    "tags": []
   },
   "outputs": [],
   "source": [
    "# Now let's calculate cosine similarity\n",
    "\n",
    "rerank_score = []\n",
    "\n",
    "for i in range(len(bert_vectors)):\n",
    "    re_rank_score = cosine_similarity(np.reshape(bert_vectors[i],(1,-1)), np.reshape(rerank_bert_vectors[0],(1,-1)))\n",
    "    rerank_score.append(re_rank_score[0][0])\n",
    "    \n",
    "final_dataset['Re-rank BERT Score'] = rerank_score  \n",
    "final_dataset.sort_values(by=['Rerank Score'],ascending=False)"
   ]
  },
  {
   "cell_type": "code",
   "execution_count": null,
   "id": "b455de4c",
   "metadata": {
    "papermill": {
     "duration": null,
     "end_time": null,
     "exception": null,
     "start_time": null,
     "status": "pending"
    },
    "tags": []
   },
   "outputs": [],
   "source": []
  }
 ],
 "metadata": {
  "kernelspec": {
   "display_name": "Python 3",
   "language": "python",
   "name": "python3"
  },
  "language_info": {
   "codemirror_mode": {
    "name": "ipython",
    "version": 3
   },
   "file_extension": ".py",
   "mimetype": "text/x-python",
   "name": "python",
   "nbconvert_exporter": "python",
   "pygments_lexer": "ipython3",
   "version": "3.6.4"
  },
  "papermill": {
   "default_parameters": {},
   "duration": null,
   "end_time": null,
   "environment_variables": {},
   "exception": null,
   "input_path": "__notebook__.ipynb",
   "output_path": "__notebook__.ipynb",
   "parameters": {},
   "start_time": "2022-12-04T15:03:32.666685",
   "version": "2.3.4"
  }
 },
 "nbformat": 4,
 "nbformat_minor": 5
}